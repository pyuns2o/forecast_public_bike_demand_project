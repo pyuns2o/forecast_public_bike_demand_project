{
 "cells": [
  {
   "cell_type": "markdown",
   "id": "e3cb26d8",
   "metadata": {},
   "source": [
    "# 1. 2022 자전거 데이터 합치기"
   ]
  },
  {
   "cell_type": "code",
   "execution_count": 1,
   "id": "b8b0d001",
   "metadata": {},
   "outputs": [],
   "source": [
    "import pandas as pd\n",
    "import numpy as np\n",
    "import seaborn as sns\n",
    "import matplotlib.pyplot as plt"
   ]
  },
  {
   "cell_type": "code",
   "execution_count": null,
   "id": "c6367514",
   "metadata": {},
   "outputs": [],
   "source": [
    "from glob import glob\n",
    "\n",
    "filepath = 'C:/Users/김나현/about datascience/통계적 기계학습 팀플/서울시_공공_자전거_이용정보(시간대별)_2022년도'\n",
    "all_path = glob(filepath + '/*.csv')\n",
    "print(len(all_path))\n",
    "all_path"
   ]
  },
  {
   "cell_type": "code",
   "execution_count": null,
   "id": "20246183",
   "metadata": {},
   "outputs": [],
   "source": [
    "pd.read_csv(all_path[0], encoding = 'cp949').head(2)"
   ]
  },
  {
   "cell_type": "code",
   "execution_count": null,
   "id": "9899d538",
   "metadata": {},
   "outputs": [],
   "source": [
    "pd.read_csv(all_path[1], encoding = 'cp949').head(2)"
   ]
  },
  {
   "cell_type": "code",
   "execution_count": null,
   "id": "8e157d62",
   "metadata": {},
   "outputs": [],
   "source": [
    "# 12개의 모든 파일의 칼럼명과 순서가 같은지 확인\n",
    "# 같은 의미를 가지는 칼럼은 동일하게 칼럼명 바꿔주기 위함\n",
    "all_cols = []\n",
    "\n",
    "for path in all_path:\n",
    "    cols = list(pd.read_csv(path, encoding = 'cp949', skiprows = lambda x : x>2).columns)\n",
    "    \n",
    "    all_cols += cols\n",
    "    \n",
    "set(all_cols)"
   ]
  },
  {
   "cell_type": "markdown",
   "id": "bfd4da7d",
   "metadata": {},
   "source": [
    "# 필요한 컬럼인지 판단\n",
    "- 대여소명과 대여소 번호는 같은거라고 판단하고 대여소명은 제거해줌"
   ]
  },
  {
   "cell_type": "code",
   "execution_count": null,
   "id": "484e23ac",
   "metadata": {},
   "outputs": [],
   "source": [
    "interested = ['대여일자','대여시간','대여소번호','대여구분코드','성별',  '연령대코드',\n",
    " '운동량',\n",
    " '이용건수',\n",
    " '이용시간(분)',\n",
    " '탄소량',\n",
    " '이동거리(M)']\n",
    "\n",
    "all_df = pd.DataFrame()\n",
    "\n",
    "for path in all_path:\n",
    "    single = pd.read_csv(path, encoding = 'cp949')\n",
    "    \n",
    "    all_df = pd.concat([all_df, single[interested]])\n",
    "    print(all_df.shape)\n",
    "    \n",
    "    del single"
   ]
  },
  {
   "cell_type": "code",
   "execution_count": null,
   "id": "a58b55f2",
   "metadata": {},
   "outputs": [],
   "source": [
    "all_df.to_csv('2022_01_01to2022_12_31.csv',index = False)"
   ]
  },
  {
   "cell_type": "markdown",
   "id": "744105fd",
   "metadata": {},
   "source": [
    "# 2. nan 값 처리하기"
   ]
  },
  {
   "cell_type": "code",
   "execution_count": 3,
   "id": "d7aeef94",
   "metadata": {},
   "outputs": [],
   "source": [
    "all_df = pd.read_csv('2022_01_01to2022_12_31.csv')"
   ]
  },
  {
   "cell_type": "code",
   "execution_count": 4,
   "id": "9e932e49",
   "metadata": {},
   "outputs": [
    {
     "data": {
      "text/plain": [
       "대여일자              0\n",
       "대여시간              0\n",
       "대여소번호             0\n",
       "대여구분코드            0\n",
       "성별         12315127\n",
       "연령대코드             0\n",
       "운동량               0\n",
       "이용건수              0\n",
       "이용시간(분)           0\n",
       "탄소량               0\n",
       "이동거리(M)           0\n",
       "dtype: int64"
      ]
     },
     "execution_count": 4,
     "metadata": {},
     "output_type": "execute_result"
    }
   ],
   "source": [
    "all_df.isnull().sum()"
   ]
  },
  {
   "cell_type": "code",
   "execution_count": 5,
   "id": "9eaba189",
   "metadata": {},
   "outputs": [
    {
     "data": {
      "text/plain": [
       "(36160487, 11)"
      ]
     },
     "execution_count": 5,
     "metadata": {},
     "output_type": "execute_result"
    }
   ],
   "source": [
    "all_df.shape"
   ]
  },
  {
   "cell_type": "code",
   "execution_count": 6,
   "id": "dad0e777",
   "metadata": {},
   "outputs": [
    {
     "data": {
      "text/plain": [
       "Index(['대여일자', '대여시간', '대여소번호', '대여구분코드', '성별', '연령대코드', '운동량', '이용건수',\n",
       "       '이용시간(분)', '탄소량', '이동거리(M)'],\n",
       "      dtype='object')"
      ]
     },
     "execution_count": 6,
     "metadata": {},
     "output_type": "execute_result"
    }
   ],
   "source": [
    "all_df.columns"
   ]
  },
  {
   "cell_type": "markdown",
   "id": "a05be858",
   "metadata": {},
   "source": [
    "# 대여일자\n",
    "- 변경 X"
   ]
  },
  {
   "cell_type": "code",
   "execution_count": 7,
   "id": "4bb9835f",
   "metadata": {},
   "outputs": [
    {
     "data": {
      "text/plain": [
       "{'2022-01-01',\n",
       " '2022-01-02',\n",
       " '2022-01-03',\n",
       " '2022-01-04',\n",
       " '2022-01-05',\n",
       " '2022-01-06',\n",
       " '2022-01-07',\n",
       " '2022-01-08',\n",
       " '2022-01-09',\n",
       " '2022-01-10',\n",
       " '2022-01-11',\n",
       " '2022-01-12',\n",
       " '2022-01-13',\n",
       " '2022-01-14',\n",
       " '2022-01-15',\n",
       " '2022-01-16',\n",
       " '2022-01-17',\n",
       " '2022-01-18',\n",
       " '2022-01-19',\n",
       " '2022-01-20',\n",
       " '2022-01-21',\n",
       " '2022-01-22',\n",
       " '2022-01-23',\n",
       " '2022-01-24',\n",
       " '2022-01-25',\n",
       " '2022-01-26',\n",
       " '2022-01-27',\n",
       " '2022-01-28',\n",
       " '2022-01-29',\n",
       " '2022-01-30',\n",
       " '2022-01-31',\n",
       " '2022-02-01',\n",
       " '2022-02-02',\n",
       " '2022-02-03',\n",
       " '2022-02-04',\n",
       " '2022-02-05',\n",
       " '2022-02-06',\n",
       " '2022-02-07',\n",
       " '2022-02-08',\n",
       " '2022-02-09',\n",
       " '2022-02-10',\n",
       " '2022-02-11',\n",
       " '2022-02-12',\n",
       " '2022-02-13',\n",
       " '2022-02-14',\n",
       " '2022-02-15',\n",
       " '2022-02-16',\n",
       " '2022-02-17',\n",
       " '2022-02-18',\n",
       " '2022-02-19',\n",
       " '2022-02-20',\n",
       " '2022-02-21',\n",
       " '2022-02-22',\n",
       " '2022-02-23',\n",
       " '2022-02-24',\n",
       " '2022-02-25',\n",
       " '2022-02-26',\n",
       " '2022-02-27',\n",
       " '2022-02-28',\n",
       " '2022-03-01',\n",
       " '2022-03-02',\n",
       " '2022-03-03',\n",
       " '2022-03-04',\n",
       " '2022-03-05',\n",
       " '2022-03-06',\n",
       " '2022-03-07',\n",
       " '2022-03-08',\n",
       " '2022-03-09',\n",
       " '2022-03-10',\n",
       " '2022-03-11',\n",
       " '2022-03-12',\n",
       " '2022-03-13',\n",
       " '2022-03-14',\n",
       " '2022-03-15',\n",
       " '2022-03-16',\n",
       " '2022-03-17',\n",
       " '2022-03-18',\n",
       " '2022-03-19',\n",
       " '2022-03-20',\n",
       " '2022-03-21',\n",
       " '2022-03-22',\n",
       " '2022-03-23',\n",
       " '2022-03-24',\n",
       " '2022-03-25',\n",
       " '2022-03-26',\n",
       " '2022-03-27',\n",
       " '2022-03-28',\n",
       " '2022-03-29',\n",
       " '2022-03-30',\n",
       " '2022-03-31',\n",
       " '2022-04-01',\n",
       " '2022-04-02',\n",
       " '2022-04-03',\n",
       " '2022-04-04',\n",
       " '2022-04-05',\n",
       " '2022-04-06',\n",
       " '2022-04-07',\n",
       " '2022-04-08',\n",
       " '2022-04-09',\n",
       " '2022-04-10',\n",
       " '2022-04-11',\n",
       " '2022-04-12',\n",
       " '2022-04-13',\n",
       " '2022-04-14',\n",
       " '2022-04-15',\n",
       " '2022-04-16',\n",
       " '2022-04-17',\n",
       " '2022-04-18',\n",
       " '2022-04-19',\n",
       " '2022-04-20',\n",
       " '2022-04-21',\n",
       " '2022-04-22',\n",
       " '2022-04-23',\n",
       " '2022-04-24',\n",
       " '2022-04-25',\n",
       " '2022-04-26',\n",
       " '2022-04-27',\n",
       " '2022-04-28',\n",
       " '2022-04-29',\n",
       " '2022-04-30',\n",
       " '2022-05-01',\n",
       " '2022-05-02',\n",
       " '2022-05-03',\n",
       " '2022-05-04',\n",
       " '2022-05-05',\n",
       " '2022-05-06',\n",
       " '2022-05-07',\n",
       " '2022-05-08',\n",
       " '2022-05-09',\n",
       " '2022-05-10',\n",
       " '2022-05-11',\n",
       " '2022-05-12',\n",
       " '2022-05-13',\n",
       " '2022-05-14',\n",
       " '2022-05-15',\n",
       " '2022-05-16',\n",
       " '2022-05-17',\n",
       " '2022-05-18',\n",
       " '2022-05-19',\n",
       " '2022-05-20',\n",
       " '2022-05-21',\n",
       " '2022-05-22',\n",
       " '2022-05-23',\n",
       " '2022-05-24',\n",
       " '2022-05-25',\n",
       " '2022-05-26',\n",
       " '2022-05-27',\n",
       " '2022-05-28',\n",
       " '2022-05-29',\n",
       " '2022-05-30',\n",
       " '2022-05-31',\n",
       " '2022-06-01',\n",
       " '2022-06-02',\n",
       " '2022-06-03',\n",
       " '2022-06-04',\n",
       " '2022-06-05',\n",
       " '2022-06-06',\n",
       " '2022-06-07',\n",
       " '2022-06-08',\n",
       " '2022-06-09',\n",
       " '2022-06-10',\n",
       " '2022-06-11',\n",
       " '2022-06-12',\n",
       " '2022-06-13',\n",
       " '2022-06-14',\n",
       " '2022-06-15',\n",
       " '2022-06-16',\n",
       " '2022-06-17',\n",
       " '2022-06-18',\n",
       " '2022-06-19',\n",
       " '2022-06-20',\n",
       " '2022-06-21',\n",
       " '2022-06-22',\n",
       " '2022-06-23',\n",
       " '2022-06-24',\n",
       " '2022-06-25',\n",
       " '2022-06-26',\n",
       " '2022-06-27',\n",
       " '2022-06-28',\n",
       " '2022-06-29',\n",
       " '2022-06-30',\n",
       " '2022-07-01',\n",
       " '2022-07-02',\n",
       " '2022-07-03',\n",
       " '2022-07-04',\n",
       " '2022-07-05',\n",
       " '2022-07-06',\n",
       " '2022-07-07',\n",
       " '2022-07-08',\n",
       " '2022-07-09',\n",
       " '2022-07-10',\n",
       " '2022-07-11',\n",
       " '2022-07-12',\n",
       " '2022-07-13',\n",
       " '2022-07-14',\n",
       " '2022-07-15',\n",
       " '2022-07-16',\n",
       " '2022-07-17',\n",
       " '2022-07-18',\n",
       " '2022-07-19',\n",
       " '2022-07-20',\n",
       " '2022-07-21',\n",
       " '2022-07-22',\n",
       " '2022-07-23',\n",
       " '2022-07-24',\n",
       " '2022-07-25',\n",
       " '2022-07-26',\n",
       " '2022-07-27',\n",
       " '2022-07-28',\n",
       " '2022-07-29',\n",
       " '2022-07-30',\n",
       " '2022-07-31',\n",
       " '2022-08-01',\n",
       " '2022-08-02',\n",
       " '2022-08-03',\n",
       " '2022-08-04',\n",
       " '2022-08-05',\n",
       " '2022-08-06',\n",
       " '2022-08-07',\n",
       " '2022-08-08',\n",
       " '2022-08-09',\n",
       " '2022-08-10',\n",
       " '2022-08-11',\n",
       " '2022-08-12',\n",
       " '2022-08-13',\n",
       " '2022-08-14',\n",
       " '2022-08-15',\n",
       " '2022-08-16',\n",
       " '2022-08-17',\n",
       " '2022-08-18',\n",
       " '2022-08-19',\n",
       " '2022-08-20',\n",
       " '2022-08-21',\n",
       " '2022-08-22',\n",
       " '2022-08-23',\n",
       " '2022-08-24',\n",
       " '2022-08-25',\n",
       " '2022-08-26',\n",
       " '2022-08-27',\n",
       " '2022-08-28',\n",
       " '2022-08-29',\n",
       " '2022-08-30',\n",
       " '2022-08-31',\n",
       " '2022-09-01',\n",
       " '2022-09-02',\n",
       " '2022-09-03',\n",
       " '2022-09-04',\n",
       " '2022-09-05',\n",
       " '2022-09-06',\n",
       " '2022-09-07',\n",
       " '2022-09-08',\n",
       " '2022-09-09',\n",
       " '2022-09-10',\n",
       " '2022-09-11',\n",
       " '2022-09-12',\n",
       " '2022-09-13',\n",
       " '2022-09-14',\n",
       " '2022-09-15',\n",
       " '2022-09-16',\n",
       " '2022-09-17',\n",
       " '2022-09-18',\n",
       " '2022-09-19',\n",
       " '2022-09-20',\n",
       " '2022-09-21',\n",
       " '2022-09-22',\n",
       " '2022-09-23',\n",
       " '2022-09-24',\n",
       " '2022-09-25',\n",
       " '2022-09-26',\n",
       " '2022-09-27',\n",
       " '2022-09-28',\n",
       " '2022-09-29',\n",
       " '2022-09-30',\n",
       " '2022-10-01',\n",
       " '2022-10-02',\n",
       " '2022-10-03',\n",
       " '2022-10-04',\n",
       " '2022-10-05',\n",
       " '2022-10-06',\n",
       " '2022-10-07',\n",
       " '2022-10-08',\n",
       " '2022-10-09',\n",
       " '2022-10-10',\n",
       " '2022-10-11',\n",
       " '2022-10-12',\n",
       " '2022-10-13',\n",
       " '2022-10-14',\n",
       " '2022-10-15',\n",
       " '2022-10-16',\n",
       " '2022-10-17',\n",
       " '2022-10-18',\n",
       " '2022-10-19',\n",
       " '2022-10-20',\n",
       " '2022-10-21',\n",
       " '2022-10-22',\n",
       " '2022-10-23',\n",
       " '2022-10-24',\n",
       " '2022-10-25',\n",
       " '2022-10-26',\n",
       " '2022-10-27',\n",
       " '2022-10-28',\n",
       " '2022-10-29',\n",
       " '2022-10-30',\n",
       " '2022-10-31',\n",
       " '2022-11-01',\n",
       " '2022-11-02',\n",
       " '2022-11-03',\n",
       " '2022-11-04',\n",
       " '2022-11-05',\n",
       " '2022-11-06',\n",
       " '2022-11-07',\n",
       " '2022-11-08',\n",
       " '2022-11-09',\n",
       " '2022-11-10',\n",
       " '2022-11-11',\n",
       " '2022-11-12',\n",
       " '2022-11-13',\n",
       " '2022-11-14',\n",
       " '2022-11-15',\n",
       " '2022-11-16',\n",
       " '2022-11-17',\n",
       " '2022-11-18',\n",
       " '2022-11-19',\n",
       " '2022-11-20',\n",
       " '2022-11-21',\n",
       " '2022-11-22',\n",
       " '2022-11-23',\n",
       " '2022-11-24',\n",
       " '2022-11-25',\n",
       " '2022-11-26',\n",
       " '2022-11-27',\n",
       " '2022-11-28',\n",
       " '2022-11-29',\n",
       " '2022-11-30',\n",
       " '2022-12-01',\n",
       " '2022-12-02',\n",
       " '2022-12-03',\n",
       " '2022-12-04',\n",
       " '2022-12-05',\n",
       " '2022-12-06',\n",
       " '2022-12-07',\n",
       " '2022-12-08',\n",
       " '2022-12-09',\n",
       " '2022-12-10',\n",
       " '2022-12-11',\n",
       " '2022-12-12',\n",
       " '2022-12-13',\n",
       " '2022-12-14',\n",
       " '2022-12-15',\n",
       " '2022-12-16',\n",
       " '2022-12-17',\n",
       " '2022-12-18',\n",
       " '2022-12-19',\n",
       " '2022-12-20',\n",
       " '2022-12-21',\n",
       " '2022-12-22',\n",
       " '2022-12-23',\n",
       " '2022-12-24',\n",
       " '2022-12-25',\n",
       " '2022-12-26',\n",
       " '2022-12-27',\n",
       " '2022-12-28',\n",
       " '2022-12-29',\n",
       " '2022-12-30',\n",
       " '2022-12-31'}"
      ]
     },
     "execution_count": 7,
     "metadata": {},
     "output_type": "execute_result"
    }
   ],
   "source": [
    "set(all_df['대여일자'])"
   ]
  },
  {
   "cell_type": "markdown",
   "id": "056e0513",
   "metadata": {},
   "source": [
    "# 대여시간\n",
    "- 한자리수와 두자리수가 섞여있어서 모두 두자리수로 만들어줌\n",
    "-> ex. 5 -> 05"
   ]
  },
  {
   "cell_type": "code",
   "execution_count": 8,
   "id": "fbdd2bbe",
   "metadata": {
    "scrolled": false
   },
   "outputs": [
    {
     "data": {
      "text/plain": [
       "{0,\n",
       " 1,\n",
       " 2,\n",
       " 3,\n",
       " 4,\n",
       " 5,\n",
       " 6,\n",
       " 7,\n",
       " 8,\n",
       " 9,\n",
       " 10,\n",
       " 11,\n",
       " 12,\n",
       " 13,\n",
       " 14,\n",
       " 15,\n",
       " 16,\n",
       " 17,\n",
       " 18,\n",
       " 19,\n",
       " 20,\n",
       " 21,\n",
       " 22,\n",
       " 23}"
      ]
     },
     "execution_count": 8,
     "metadata": {},
     "output_type": "execute_result"
    }
   ],
   "source": [
    "set(all_df['대여시간'])"
   ]
  },
  {
   "cell_type": "code",
   "execution_count": 9,
   "id": "3915cc63",
   "metadata": {
    "scrolled": true
   },
   "outputs": [],
   "source": [
    "all_df = all_df.astype({ '대여시간' : 'str' })"
   ]
  },
  {
   "cell_type": "code",
   "execution_count": 10,
   "id": "1c8706e1",
   "metadata": {
    "scrolled": false
   },
   "outputs": [
    {
     "data": {
      "text/plain": [
       "{'00',\n",
       " '01',\n",
       " '02',\n",
       " '03',\n",
       " '04',\n",
       " '05',\n",
       " '06',\n",
       " '07',\n",
       " '08',\n",
       " '09',\n",
       " '10',\n",
       " '11',\n",
       " '12',\n",
       " '13',\n",
       " '14',\n",
       " '15',\n",
       " '16',\n",
       " '17',\n",
       " '18',\n",
       " '19',\n",
       " '20',\n",
       " '21',\n",
       " '22',\n",
       " '23'}"
      ]
     },
     "execution_count": 10,
     "metadata": {},
     "output_type": "execute_result"
    }
   ],
   "source": [
    "all_df['대여시간'] = all_df['대여시간'].apply(lambda x: str('0' + x)[-2:])\n",
    "set(all_df['대여시간'])"
   ]
  },
  {
   "cell_type": "code",
   "execution_count": 11,
   "id": "f5f9344b",
   "metadata": {},
   "outputs": [
    {
     "name": "stdout",
     "output_type": "stream",
     "text": [
      "<class 'pandas.core.frame.DataFrame'>\n",
      "RangeIndex: 36160487 entries, 0 to 36160486\n",
      "Data columns (total 11 columns):\n",
      " #   Column   Dtype  \n",
      "---  ------   -----  \n",
      " 0   대여일자     object \n",
      " 1   대여시간     object \n",
      " 2   대여소번호    int64  \n",
      " 3   대여구분코드   object \n",
      " 4   성별       object \n",
      " 5   연령대코드    object \n",
      " 6   운동량      object \n",
      " 7   이용건수     int64  \n",
      " 8   이용시간(분)  int64  \n",
      " 9   탄소량      object \n",
      " 10  이동거리(M)  float64\n",
      "dtypes: float64(1), int64(3), object(7)\n",
      "memory usage: 3.0+ GB\n"
     ]
    }
   ],
   "source": [
    "all_df.info()"
   ]
  },
  {
   "cell_type": "markdown",
   "id": "01a75bc3",
   "metadata": {},
   "source": [
    "# 대여소번호\n",
    "- 변경 x"
   ]
  },
  {
   "cell_type": "code",
   "execution_count": 12,
   "id": "0521aad0",
   "metadata": {},
   "outputs": [
    {
     "data": {
      "text/plain": [
       "array([    3,     5,    10, ..., 88888, 99998, 99999], dtype=int64)"
      ]
     },
     "execution_count": 12,
     "metadata": {},
     "output_type": "execute_result"
    }
   ],
   "source": [
    "np.unique(all_df['대여소번호'])"
   ]
  },
  {
   "cell_type": "markdown",
   "id": "2b5ea0b7",
   "metadata": {},
   "source": [
    "# 대여구분코드\n",
    "- 일일권과 일일권(비회원)을 같은 종류로 만들어 줌 => type\n",
    "-> 단체권 : group\n",
    "-> 일일권, 일일권(비회원) : casual\n",
    "-> 정기권 : regular"
   ]
  },
  {
   "cell_type": "code",
   "execution_count": 13,
   "id": "007711bc",
   "metadata": {},
   "outputs": [
    {
     "data": {
      "text/plain": [
       "{'단체권', '일일권', '일일권(비회원)', '정기권'}"
      ]
     },
     "execution_count": 13,
     "metadata": {},
     "output_type": "execute_result"
    }
   ],
   "source": [
    "set(all_df['대여구분코드'])"
   ]
  },
  {
   "cell_type": "code",
   "execution_count": 14,
   "id": "78ef78f8",
   "metadata": {},
   "outputs": [
    {
     "data": {
      "text/plain": [
       "{'casual', 'group', 'regular'}"
      ]
     },
     "execution_count": 14,
     "metadata": {},
     "output_type": "execute_result"
    }
   ],
   "source": [
    "mapper = {'단체권' : 'group',\n",
    "           '일일권' : 'casual',\n",
    "           '일일권(비회원)' : 'casual',\n",
    "            '정기권' : 'regular'}\n",
    "\n",
    "all_df['type'] = all_df['대여구분코드'].map(mapper)\n",
    "set(all_df['type'])"
   ]
  },
  {
   "cell_type": "code",
   "execution_count": 15,
   "id": "ba2236ba",
   "metadata": {},
   "outputs": [
    {
     "data": {
      "text/plain": [
       "Index(['대여일자', '대여시간', '대여소번호', '대여구분코드', '성별', '연령대코드', '운동량', '이용건수',\n",
       "       '이용시간(분)', '탄소량', '이동거리(M)', 'type'],\n",
       "      dtype='object')"
      ]
     },
     "execution_count": 15,
     "metadata": {},
     "output_type": "execute_result"
    }
   ],
   "source": [
    "all_df.columns"
   ]
  },
  {
   "cell_type": "code",
   "execution_count": 16,
   "id": "52f852c8",
   "metadata": {},
   "outputs": [
    {
     "name": "stdout",
     "output_type": "stream",
     "text": [
      "<class 'pandas.core.frame.DataFrame'>\n",
      "RangeIndex: 36160487 entries, 0 to 36160486\n",
      "Data columns (total 12 columns):\n",
      " #   Column   Dtype  \n",
      "---  ------   -----  \n",
      " 0   대여일자     object \n",
      " 1   대여시간     object \n",
      " 2   대여소번호    int64  \n",
      " 3   대여구분코드   object \n",
      " 4   성별       object \n",
      " 5   연령대코드    object \n",
      " 6   운동량      object \n",
      " 7   이용건수     int64  \n",
      " 8   이용시간(분)  int64  \n",
      " 9   탄소량      object \n",
      " 10  이동거리(M)  float64\n",
      " 11  type     object \n",
      "dtypes: float64(1), int64(3), object(8)\n",
      "memory usage: 3.2+ GB\n"
     ]
    }
   ],
   "source": [
    "all_df.info()"
   ]
  },
  {
   "cell_type": "code",
   "execution_count": 17,
   "id": "b3d46008",
   "metadata": {},
   "outputs": [],
   "source": [
    "all_df = all_df.drop(['대여구분코드'], axis = 'columns')"
   ]
  },
  {
   "cell_type": "code",
   "execution_count": 18,
   "id": "0961e17f",
   "metadata": {},
   "outputs": [
    {
     "name": "stdout",
     "output_type": "stream",
     "text": [
      "<class 'pandas.core.frame.DataFrame'>\n",
      "RangeIndex: 36160487 entries, 0 to 36160486\n",
      "Data columns (total 11 columns):\n",
      " #   Column   Dtype  \n",
      "---  ------   -----  \n",
      " 0   대여일자     object \n",
      " 1   대여시간     object \n",
      " 2   대여소번호    int64  \n",
      " 3   성별       object \n",
      " 4   연령대코드    object \n",
      " 5   운동량      object \n",
      " 6   이용건수     int64  \n",
      " 7   이용시간(분)  int64  \n",
      " 8   탄소량      object \n",
      " 9   이동거리(M)  float64\n",
      " 10  type     object \n",
      "dtypes: float64(1), int64(3), object(7)\n",
      "memory usage: 3.0+ GB\n"
     ]
    }
   ],
   "source": [
    "all_df.info()"
   ]
  },
  {
   "cell_type": "markdown",
   "id": "de530106",
   "metadata": {},
   "source": [
    "# 성별\n",
    "- 성별 nan값이 너무 많아서 지우는건 무리라고 판단\n",
    "-> F,f는 F(Female)로 통일\n",
    "-> M,m 은 M(Male)로 통일\n",
    "-> nan은 U(Unidentified)로 통일"
   ]
  },
  {
   "cell_type": "code",
   "execution_count": 19,
   "id": "3dc76435",
   "metadata": {},
   "outputs": [
    {
     "data": {
      "text/plain": [
       "{'F', 'M', 'f', 'm', nan}"
      ]
     },
     "execution_count": 19,
     "metadata": {},
     "output_type": "execute_result"
    }
   ],
   "source": [
    "set(all_df['성별'])"
   ]
  },
  {
   "cell_type": "code",
   "execution_count": 20,
   "id": "e8210264",
   "metadata": {},
   "outputs": [
    {
     "data": {
      "text/plain": [
       "{'F', 'M', nan}"
      ]
     },
     "execution_count": 20,
     "metadata": {},
     "output_type": "execute_result"
    }
   ],
   "source": [
    "mapper = {'F' : 'F',\n",
    "         'f' : 'F',\n",
    "         'M' : 'M',\n",
    "         'm' : 'M',}\n",
    "\n",
    "all_df['gender'] = all_df['성별'].map(mapper)\n",
    "set(all_df['gender'])"
   ]
  },
  {
   "cell_type": "code",
   "execution_count": 21,
   "id": "77c1957c",
   "metadata": {},
   "outputs": [],
   "source": [
    "all_df['gender'].fillna('U', inplace = True)"
   ]
  },
  {
   "cell_type": "code",
   "execution_count": 22,
   "id": "4dce8dd2",
   "metadata": {},
   "outputs": [
    {
     "data": {
      "text/plain": [
       "{'F', 'M', 'U'}"
      ]
     },
     "execution_count": 22,
     "metadata": {},
     "output_type": "execute_result"
    }
   ],
   "source": [
    "set(all_df['gender'])"
   ]
  },
  {
   "cell_type": "code",
   "execution_count": 23,
   "id": "95723a4c",
   "metadata": {},
   "outputs": [
    {
     "name": "stdout",
     "output_type": "stream",
     "text": [
      "<class 'pandas.core.frame.DataFrame'>\n",
      "RangeIndex: 36160487 entries, 0 to 36160486\n",
      "Data columns (total 12 columns):\n",
      " #   Column   Dtype  \n",
      "---  ------   -----  \n",
      " 0   대여일자     object \n",
      " 1   대여시간     object \n",
      " 2   대여소번호    int64  \n",
      " 3   성별       object \n",
      " 4   연령대코드    object \n",
      " 5   운동량      object \n",
      " 6   이용건수     int64  \n",
      " 7   이용시간(분)  int64  \n",
      " 8   탄소량      object \n",
      " 9   이동거리(M)  float64\n",
      " 10  type     object \n",
      " 11  gender   object \n",
      "dtypes: float64(1), int64(3), object(8)\n",
      "memory usage: 3.2+ GB\n"
     ]
    }
   ],
   "source": [
    "all_df.info()"
   ]
  },
  {
   "cell_type": "code",
   "execution_count": 24,
   "id": "c8619d0b",
   "metadata": {},
   "outputs": [],
   "source": [
    "all_df = all_df.drop(['성별'], axis = 'columns')"
   ]
  },
  {
   "cell_type": "code",
   "execution_count": 25,
   "id": "01d45cae",
   "metadata": {},
   "outputs": [
    {
     "name": "stdout",
     "output_type": "stream",
     "text": [
      "<class 'pandas.core.frame.DataFrame'>\n",
      "RangeIndex: 36160487 entries, 0 to 36160486\n",
      "Data columns (total 11 columns):\n",
      " #   Column   Dtype  \n",
      "---  ------   -----  \n",
      " 0   대여일자     object \n",
      " 1   대여시간     object \n",
      " 2   대여소번호    int64  \n",
      " 3   연령대코드    object \n",
      " 4   운동량      object \n",
      " 5   이용건수     int64  \n",
      " 6   이용시간(분)  int64  \n",
      " 7   탄소량      object \n",
      " 8   이동거리(M)  float64\n",
      " 9   type     object \n",
      " 10  gender   object \n",
      "dtypes: float64(1), int64(3), object(7)\n",
      "memory usage: 3.0+ GB\n"
     ]
    }
   ],
   "source": [
    "all_df.info()"
   ]
  },
  {
   "cell_type": "markdown",
   "id": "b25a044c",
   "metadata": {},
   "source": [
    "# 연령대코드\n",
    "- 매핑 다시 해줌\n",
    "-> '20대' : '20s',\n",
    "-> '30대' : '30s',\n",
    "-> '40대' : '40s',\n",
    "-> '50대' : '50s',\n",
    "-> '60대' : '60s',\n",
    "-> '70대이상' : '70s',\n",
    "-> '~10대' : '10s'\n",
    "-> '기타' : 'unknown'"
   ]
  },
  {
   "cell_type": "code",
   "execution_count": null,
   "id": "f9142f71",
   "metadata": {},
   "outputs": [],
   "source": [
    "mapper = {'20대' : '20s',\n",
    "          '30대' : '30s',\n",
    "          '40대' : '40s',\n",
    "          '50대' : '50s',\n",
    "          '60대' : '60s',\n",
    "          '70대이상' : '70s',\n",
    "          '기타' : 'unknown',\n",
    "          '~10대' : '10s'}\n",
    "\n",
    "all_df['age'] = all_df['연령대코드'].map(mapper)\n",
    "all_df.head()"
   ]
  },
  {
   "cell_type": "code",
   "execution_count": 27,
   "id": "bfb9659c",
   "metadata": {},
   "outputs": [
    {
     "name": "stdout",
     "output_type": "stream",
     "text": [
      "<class 'pandas.core.frame.DataFrame'>\n",
      "RangeIndex: 36160487 entries, 0 to 36160486\n",
      "Data columns (total 12 columns):\n",
      " #   Column   Dtype  \n",
      "---  ------   -----  \n",
      " 0   대여일자     object \n",
      " 1   대여시간     object \n",
      " 2   대여소번호    int64  \n",
      " 3   연령대코드    object \n",
      " 4   운동량      object \n",
      " 5   이용건수     int64  \n",
      " 6   이용시간(분)  int64  \n",
      " 7   탄소량      object \n",
      " 8   이동거리(M)  float64\n",
      " 9   type     object \n",
      " 10  gender   object \n",
      " 11  age      object \n",
      "dtypes: float64(1), int64(3), object(8)\n",
      "memory usage: 3.2+ GB\n"
     ]
    }
   ],
   "source": [
    "all_df.info()"
   ]
  },
  {
   "cell_type": "code",
   "execution_count": 28,
   "id": "10a9a59c",
   "metadata": {},
   "outputs": [],
   "source": [
    "all_df = all_df.drop(['연령대코드'], axis = 'columns')"
   ]
  },
  {
   "cell_type": "code",
   "execution_count": 29,
   "id": "3794e062",
   "metadata": {},
   "outputs": [
    {
     "name": "stdout",
     "output_type": "stream",
     "text": [
      "<class 'pandas.core.frame.DataFrame'>\n",
      "RangeIndex: 36160487 entries, 0 to 36160486\n",
      "Data columns (total 11 columns):\n",
      " #   Column   Dtype  \n",
      "---  ------   -----  \n",
      " 0   대여일자     object \n",
      " 1   대여시간     object \n",
      " 2   대여소번호    int64  \n",
      " 3   운동량      object \n",
      " 4   이용건수     int64  \n",
      " 5   이용시간(분)  int64  \n",
      " 6   탄소량      object \n",
      " 7   이동거리(M)  float64\n",
      " 8   type     object \n",
      " 9   gender   object \n",
      " 10  age      object \n",
      "dtypes: float64(1), int64(3), object(7)\n",
      "memory usage: 3.0+ GB\n"
     ]
    }
   ],
   "source": [
    "all_df.info()"
   ]
  },
  {
   "attachments": {
    "image.png": {
     "image/png": "[encoded data removed]"
    }
   },
   "cell_type": "markdown",
   "id": "92eb1460",
   "metadata": {},
   "source": [
    "# 운동량\n",
    "- \\\\N이라는 이상한 값 포함 => '0.00'으로 바꿔줌\n",
    "- ![image.png](attachment:image.png)"
   ]
  },
  {
   "cell_type": "code",
   "execution_count": 30,
   "id": "2a2bc28e",
   "metadata": {},
   "outputs": [
    {
     "data": {
      "text/plain": [
       "(array(['-379.95', '0.00', '0.01', ..., '999.99', '99999999.99', '\\\\N'],\n",
       "       dtype=object),\n",
       " array([      1, 1320884,    5867, ...,       5,      10,  137401],\n",
       "       dtype=int64))"
      ]
     },
     "execution_count": 30,
     "metadata": {},
     "output_type": "execute_result"
    }
   ],
   "source": [
    "np.unique(all_df['운동량'],return_counts = True)"
   ]
  },
  {
   "cell_type": "markdown",
   "id": "78e9c302",
   "metadata": {},
   "source": [
    "### 이동거리가 0.0인 row들 운동량 관찰"
   ]
  },
  {
   "cell_type": "code",
   "execution_count": 31,
   "id": "e99150c6",
   "metadata": {
    "scrolled": true
   },
   "outputs": [
    {
     "data": {
      "text/html": [
       "<div>\n",
       "<style scoped>\n",
       "    .dataframe tbody tr th:only-of-type {\n",
       "        vertical-align: middle;\n",
       "    }\n",
       "\n",
       "    .dataframe tbody tr th {\n",
       "        vertical-align: top;\n",
       "    }\n",
       "\n",
       "    .dataframe thead th {\n",
       "        text-align: right;\n",
       "    }\n",
       "</style>\n",
       "<table border=\"1\" class=\"dataframe\">\n",
       "  <thead>\n",
       "    <tr style=\"text-align: right;\">\n",
       "      <th></th>\n",
       "      <th>대여일자</th>\n",
       "      <th>대여시간</th>\n",
       "      <th>대여소번호</th>\n",
       "      <th>운동량</th>\n",
       "      <th>이용건수</th>\n",
       "      <th>이용시간(분)</th>\n",
       "      <th>탄소량</th>\n",
       "      <th>이동거리(M)</th>\n",
       "      <th>type</th>\n",
       "      <th>gender</th>\n",
       "      <th>age</th>\n",
       "    </tr>\n",
       "  </thead>\n",
       "  <tbody>\n",
       "    <tr>\n",
       "      <th>0</th>\n",
       "      <td>2022-01-01</td>\n",
       "      <td>00</td>\n",
       "      <td>1725</td>\n",
       "      <td>0.00</td>\n",
       "      <td>1</td>\n",
       "      <td>44</td>\n",
       "      <td>0.00</td>\n",
       "      <td>0.0</td>\n",
       "      <td>regular</td>\n",
       "      <td>U</td>\n",
       "      <td>10s</td>\n",
       "    </tr>\n",
       "    <tr>\n",
       "      <th>1</th>\n",
       "      <td>2022-01-01</td>\n",
       "      <td>00</td>\n",
       "      <td>1167</td>\n",
       "      <td>52.51</td>\n",
       "      <td>1</td>\n",
       "      <td>15</td>\n",
       "      <td>0.51</td>\n",
       "      <td>2210.0</td>\n",
       "      <td>regular</td>\n",
       "      <td>U</td>\n",
       "      <td>10s</td>\n",
       "    </tr>\n",
       "  </tbody>\n",
       "</table>\n",
       "</div>"
      ],
      "text/plain": [
       "         대여일자 대여시간  대여소번호    운동량  이용건수  이용시간(분)   탄소량  이동거리(M)     type  \\\n",
       "0  2022-01-01   00   1725   0.00     1       44  0.00      0.0  regular   \n",
       "1  2022-01-01   00   1167  52.51     1       15  0.51   2210.0  regular   \n",
       "\n",
       "  gender  age  \n",
       "0      U  10s  \n",
       "1      U  10s  "
      ]
     },
     "execution_count": 31,
     "metadata": {},
     "output_type": "execute_result"
    }
   ],
   "source": [
    "all_df.head(2)"
   ]
  },
  {
   "cell_type": "code",
   "execution_count": 32,
   "id": "c83b80fe",
   "metadata": {},
   "outputs": [],
   "source": [
    "move_zero = all_df[all_df['이동거리(M)'] == 0.0]"
   ]
  },
  {
   "cell_type": "code",
   "execution_count": 33,
   "id": "51556e5d",
   "metadata": {},
   "outputs": [
    {
     "data": {
      "text/plain": [
       "(array(['0.00', '\\\\N'], dtype=object), array([1277813,  137401], dtype=int64))"
      ]
     },
     "execution_count": 33,
     "metadata": {},
     "output_type": "execute_result"
    }
   ],
   "source": [
    "np.unique(move_zero['운동량'], return_counts = True)\n",
    "# 모든 \\\\N 값은 이동거리가 0인 경우에 포함된다는 걸 확인\n",
    "# 그냥 0으로 처리해줌 -> 버리기에는 개수가 너무 많음"
   ]
  },
  {
   "cell_type": "code",
   "execution_count": 37,
   "id": "cdd6eed7",
   "metadata": {},
   "outputs": [],
   "source": [
    "all_df.replace({'운동량' : {'\\\\N': '0.00'}}, inplace = True)"
   ]
  },
  {
   "cell_type": "code",
   "execution_count": 38,
   "id": "85277c9e",
   "metadata": {},
   "outputs": [
    {
     "data": {
      "text/plain": [
       "(array(['-379.95', '0.00', '0.01', ..., '999.98', '999.99', '99999999.99'],\n",
       "       dtype=object),\n",
       " array([      1, 1458285,    5867, ...,       1,       5,      10],\n",
       "       dtype=int64))"
      ]
     },
     "execution_count": 38,
     "metadata": {},
     "output_type": "execute_result"
    }
   ],
   "source": [
    "np.unique(all_df['운동량'], return_counts = True)"
   ]
  },
  {
   "cell_type": "markdown",
   "id": "cda83019",
   "metadata": {},
   "source": [
    "# 이용건수\n",
    "- 대여일자, 대여소, 대여구분코드, 성별, 연령대코드가 모두 일치하는 대여건수를 의미\n",
    "- 변화 x"
   ]
  },
  {
   "cell_type": "code",
   "execution_count": 34,
   "id": "a71ed86d",
   "metadata": {},
   "outputs": [
    {
     "data": {
      "text/plain": [
       "{1,\n",
       " 2,\n",
       " 3,\n",
       " 4,\n",
       " 5,\n",
       " 6,\n",
       " 7,\n",
       " 8,\n",
       " 9,\n",
       " 10,\n",
       " 11,\n",
       " 12,\n",
       " 13,\n",
       " 14,\n",
       " 15,\n",
       " 16,\n",
       " 17,\n",
       " 18,\n",
       " 19,\n",
       " 20,\n",
       " 21,\n",
       " 22,\n",
       " 23,\n",
       " 24,\n",
       " 25,\n",
       " 26,\n",
       " 27,\n",
       " 28,\n",
       " 29,\n",
       " 30,\n",
       " 31,\n",
       " 34,\n",
       " 36,\n",
       " 38}"
      ]
     },
     "execution_count": 34,
     "metadata": {},
     "output_type": "execute_result"
    }
   ],
   "source": [
    "set(all_df['이용건수'])"
   ]
  },
  {
   "cell_type": "markdown",
   "id": "ac9712f0",
   "metadata": {},
   "source": [
    "# 이용시간(분)\n",
    "- 변화 x"
   ]
  },
  {
   "cell_type": "code",
   "execution_count": 36,
   "id": "6ca8cfb3",
   "metadata": {},
   "outputs": [
    {
     "data": {
      "text/plain": [
       "array([   0,    1,    2, ..., 2559, 2574, 3205], dtype=int64)"
      ]
     },
     "execution_count": 36,
     "metadata": {},
     "output_type": "execute_result"
    }
   ],
   "source": [
    "np.unique(all_df['이용시간(분)'])"
   ]
  },
  {
   "cell_type": "markdown",
   "id": "99173125",
   "metadata": {},
   "source": [
    "# 탄소량\n",
    "- \\\\N이라는 이상한 값 포함 => 모두 0으로 "
   ]
  },
  {
   "cell_type": "code",
   "execution_count": 40,
   "id": "80d9026f",
   "metadata": {},
   "outputs": [
    {
     "data": {
      "text/plain": [
       "(array(['-3.18', '0.00', '0.01', ..., '97.88', '971.00', '\\\\N'],\n",
       "       dtype=object),\n",
       " array([      1, 1340706,   48762, ...,       1,       1,  137401],\n",
       "       dtype=int64))"
      ]
     },
     "execution_count": 40,
     "metadata": {},
     "output_type": "execute_result"
    }
   ],
   "source": [
    "np.unique(all_df['탄소량'], return_counts = True)\n",
    "# '\\\\N'"
   ]
  },
  {
   "cell_type": "markdown",
   "id": "6f067ce7",
   "metadata": {},
   "source": [
    "### 이동거리가 0.0인 row들 탄소량 관찰"
   ]
  },
  {
   "cell_type": "code",
   "execution_count": 39,
   "id": "c59cf615",
   "metadata": {},
   "outputs": [
    {
     "data": {
      "text/plain": [
       "(array(['0.00', '\\\\N'], dtype=object), array([1277813,  137401], dtype=int64))"
      ]
     },
     "execution_count": 39,
     "metadata": {},
     "output_type": "execute_result"
    }
   ],
   "source": [
    "np.unique(move_zero['탄소량'], return_counts = True)\n",
    "# 모든 \\\\N 값은 이동거리가 0인 경우에 포함된다는 걸 확인\n",
    "# 그냥 0으로 처리해줌 -> 버리기에는 개수가 너무 많음"
   ]
  },
  {
   "cell_type": "code",
   "execution_count": 40,
   "id": "4a548b02",
   "metadata": {},
   "outputs": [],
   "source": [
    "all_df.replace({'탄소량' : {'\\\\N': '0.00'}}, inplace = True)"
   ]
  },
  {
   "cell_type": "code",
   "execution_count": 41,
   "id": "1ac15275",
   "metadata": {},
   "outputs": [
    {
     "data": {
      "text/plain": [
       "(array(['-3.18', '0.00', '0.01', ..., '94.16', '97.88', '971.00'],\n",
       "       dtype=object),\n",
       " array([      1, 1478107,   48762, ...,       1,       1,       1],\n",
       "       dtype=int64))"
      ]
     },
     "execution_count": 41,
     "metadata": {},
     "output_type": "execute_result"
    }
   ],
   "source": [
    "np.unique(all_df['탄소량'], return_counts = True)"
   ]
  },
  {
   "cell_type": "markdown",
   "id": "225c1d12",
   "metadata": {},
   "source": [
    "# 이동거리(M)\n",
    "- 변화 x"
   ]
  },
  {
   "cell_type": "code",
   "execution_count": 43,
   "id": "45d9cf8e",
   "metadata": {},
   "outputs": [
    {
     "data": {
      "text/plain": [
       "(array([-1.37067800e+04,  0.00000000e+00,  1.00000000e-01, ...,\n",
       "         1.31747916e+07,  1.31791590e+07,  1.41102791e+07]),\n",
       " array([      1, 1415214,   14069, ...,       1,       1,       1],\n",
       "       dtype=int64))"
      ]
     },
     "execution_count": 43,
     "metadata": {},
     "output_type": "execute_result"
    }
   ],
   "source": [
    "np.unique(all_df['이동거리(M)'], return_counts = True)"
   ]
  },
  {
   "cell_type": "markdown",
   "id": "49cad0b3",
   "metadata": {},
   "source": [
    "# 저장"
   ]
  },
  {
   "cell_type": "code",
   "execution_count": 44,
   "id": "acc31630",
   "metadata": {},
   "outputs": [],
   "source": [
    "all_df.to_csv('임시nan값처리.csv',index = False)"
   ]
  },
  {
   "cell_type": "markdown",
   "id": "17236336",
   "metadata": {},
   "source": [
    "# 3. datetime 컬럼 만들기"
   ]
  },
  {
   "cell_type": "code",
   "execution_count": null,
   "id": "700fff96",
   "metadata": {},
   "outputs": [],
   "source": [
    "all_df = pd.read_csv('임시nan값처리.csv')"
   ]
  },
  {
   "cell_type": "code",
   "execution_count": null,
   "id": "1a3e585d",
   "metadata": {},
   "outputs": [
    {
     "name": "stdout",
     "output_type": "stream",
     "text": [
      "<class 'pandas.core.frame.DataFrame'>\n",
      "RangeIndex: 36160487 entries, 0 to 36160486\n",
      "Data columns (total 11 columns):\n",
      " #   Column   Dtype  \n",
      "---  ------   -----  \n",
      " 0   대여일자     object \n",
      " 1   대여시간     int64  \n",
      " 2   대여소번호    int64  \n",
      " 3   운동량      float64\n",
      " 4   이용건수     int64  \n",
      " 5   이용시간(분)  int64  \n",
      " 6   탄소량      float64\n",
      " 7   이동거리(M)  float64\n",
      " 8   type     object \n",
      " 9   gender   object \n",
      " 10  age      object \n",
      "dtypes: float64(3), int64(4), object(4)\n",
      "memory usage: 3.0+ GB\n"
     ]
    }
   ],
   "source": [
    "all_df.info()"
   ]
  },
  {
   "cell_type": "code",
   "execution_count": null,
   "id": "c736e041",
   "metadata": {},
   "outputs": [],
   "source": [
    "all_df = all_df.astype({ '대여시간' : 'str' })"
   ]
  },
  {
   "cell_type": "code",
   "execution_count": null,
   "id": "17d357dd",
   "metadata": {},
   "outputs": [
    {
     "data": {
      "text/plain": [
       "0            2022-01-01 0:00:00\n",
       "1            2022-01-01 0:00:00\n",
       "2            2022-01-01 0:00:00\n",
       "3            2022-01-01 0:00:00\n",
       "4            2022-01-01 0:00:00\n",
       "                   ...         \n",
       "36160482    2022-12-31 23:00:00\n",
       "36160483    2022-12-31 23:00:00\n",
       "36160484    2022-12-31 23:00:00\n",
       "36160485    2022-12-31 23:00:00\n",
       "36160486    2022-12-31 23:00:00\n",
       "Name: datetime, Length: 36160487, dtype: object"
      ]
     },
     "metadata": {},
     "output_type": "display_data"
    }
   ],
   "source": [
    "all_df['datetime'] = all_df['대여일자'] + ' ' + all_df['대여시간'] + ':00:00'\n",
    "all_df['datetime']"
   ]
  },
  {
   "cell_type": "code",
   "execution_count": null,
   "id": "3bd54c6d",
   "metadata": {},
   "outputs": [],
   "source": [
    "all_df.drop(['대여일자', '대여시간'], axis = 'columns', inplace = True)"
   ]
  },
  {
   "cell_type": "code",
   "execution_count": null,
   "id": "9de7bbe2",
   "metadata": {},
   "outputs": [
    {
     "data": {
      "text/html": [
       "<div>\n",
       "<style scoped>\n",
       "    .dataframe tbody tr th:only-of-type {\n",
       "        vertical-align: middle;\n",
       "    }\n",
       "\n",
       "    .dataframe tbody tr th {\n",
       "        vertical-align: top;\n",
       "    }\n",
       "\n",
       "    .dataframe thead th {\n",
       "        text-align: right;\n",
       "    }\n",
       "</style>\n",
       "<table border=\"1\" class=\"dataframe\">\n",
       "  <thead>\n",
       "    <tr style=\"text-align: right;\">\n",
       "      <th></th>\n",
       "      <th>대여소번호</th>\n",
       "      <th>운동량</th>\n",
       "      <th>이용건수</th>\n",
       "      <th>이용시간(분)</th>\n",
       "      <th>탄소량</th>\n",
       "      <th>이동거리(M)</th>\n",
       "      <th>type</th>\n",
       "      <th>gender</th>\n",
       "      <th>age</th>\n",
       "      <th>datetime</th>\n",
       "    </tr>\n",
       "  </thead>\n",
       "  <tbody>\n",
       "    <tr>\n",
       "      <th>0</th>\n",
       "      <td>1725</td>\n",
       "      <td>0.00</td>\n",
       "      <td>1</td>\n",
       "      <td>44</td>\n",
       "      <td>0.00</td>\n",
       "      <td>0.00</td>\n",
       "      <td>regular</td>\n",
       "      <td>U</td>\n",
       "      <td>10s</td>\n",
       "      <td>2022-01-01 0:00:00</td>\n",
       "    </tr>\n",
       "    <tr>\n",
       "      <th>1</th>\n",
       "      <td>1167</td>\n",
       "      <td>52.51</td>\n",
       "      <td>1</td>\n",
       "      <td>15</td>\n",
       "      <td>0.51</td>\n",
       "      <td>2210.00</td>\n",
       "      <td>regular</td>\n",
       "      <td>U</td>\n",
       "      <td>10s</td>\n",
       "      <td>2022-01-01 0:00:00</td>\n",
       "    </tr>\n",
       "    <tr>\n",
       "      <th>2</th>\n",
       "      <td>1059</td>\n",
       "      <td>25.66</td>\n",
       "      <td>1</td>\n",
       "      <td>4</td>\n",
       "      <td>0.25</td>\n",
       "      <td>1080.00</td>\n",
       "      <td>regular</td>\n",
       "      <td>U</td>\n",
       "      <td>10s</td>\n",
       "      <td>2022-01-01 0:00:00</td>\n",
       "    </tr>\n",
       "    <tr>\n",
       "      <th>3</th>\n",
       "      <td>3794</td>\n",
       "      <td>49.61</td>\n",
       "      <td>1</td>\n",
       "      <td>15</td>\n",
       "      <td>0.50</td>\n",
       "      <td>2160.00</td>\n",
       "      <td>regular</td>\n",
       "      <td>U</td>\n",
       "      <td>10s</td>\n",
       "      <td>2022-01-01 0:00:00</td>\n",
       "    </tr>\n",
       "    <tr>\n",
       "      <th>4</th>\n",
       "      <td>4014</td>\n",
       "      <td>23.60</td>\n",
       "      <td>1</td>\n",
       "      <td>7</td>\n",
       "      <td>0.22</td>\n",
       "      <td>961.30</td>\n",
       "      <td>regular</td>\n",
       "      <td>U</td>\n",
       "      <td>10s</td>\n",
       "      <td>2022-01-01 0:00:00</td>\n",
       "    </tr>\n",
       "    <tr>\n",
       "      <th>...</th>\n",
       "      <td>...</td>\n",
       "      <td>...</td>\n",
       "      <td>...</td>\n",
       "      <td>...</td>\n",
       "      <td>...</td>\n",
       "      <td>...</td>\n",
       "      <td>...</td>\n",
       "      <td>...</td>\n",
       "      <td>...</td>\n",
       "      <td>...</td>\n",
       "    </tr>\n",
       "    <tr>\n",
       "      <th>36160482</th>\n",
       "      <td>262</td>\n",
       "      <td>29.15</td>\n",
       "      <td>1</td>\n",
       "      <td>5</td>\n",
       "      <td>0.21</td>\n",
       "      <td>920.00</td>\n",
       "      <td>regular</td>\n",
       "      <td>M</td>\n",
       "      <td>unknow</td>\n",
       "      <td>2022-12-31 23:00:00</td>\n",
       "    </tr>\n",
       "    <tr>\n",
       "      <th>36160483</th>\n",
       "      <td>201</td>\n",
       "      <td>15.36</td>\n",
       "      <td>1</td>\n",
       "      <td>3</td>\n",
       "      <td>0.10</td>\n",
       "      <td>430.88</td>\n",
       "      <td>regular</td>\n",
       "      <td>M</td>\n",
       "      <td>unknow</td>\n",
       "      <td>2022-12-31 23:00:00</td>\n",
       "    </tr>\n",
       "    <tr>\n",
       "      <th>36160484</th>\n",
       "      <td>1008</td>\n",
       "      <td>36.83</td>\n",
       "      <td>1</td>\n",
       "      <td>7</td>\n",
       "      <td>0.29</td>\n",
       "      <td>1240.00</td>\n",
       "      <td>regular</td>\n",
       "      <td>M</td>\n",
       "      <td>unknow</td>\n",
       "      <td>2022-12-31 23:00:00</td>\n",
       "    </tr>\n",
       "    <tr>\n",
       "      <th>36160485</th>\n",
       "      <td>1637</td>\n",
       "      <td>222.14</td>\n",
       "      <td>1</td>\n",
       "      <td>87</td>\n",
       "      <td>2.00</td>\n",
       "      <td>8630.00</td>\n",
       "      <td>regular</td>\n",
       "      <td>M</td>\n",
       "      <td>unknow</td>\n",
       "      <td>2022-12-31 23:00:00</td>\n",
       "    </tr>\n",
       "    <tr>\n",
       "      <th>36160486</th>\n",
       "      <td>1227</td>\n",
       "      <td>71.52</td>\n",
       "      <td>1</td>\n",
       "      <td>15</td>\n",
       "      <td>0.60</td>\n",
       "      <td>2580.00</td>\n",
       "      <td>regular</td>\n",
       "      <td>M</td>\n",
       "      <td>unknow</td>\n",
       "      <td>2022-12-31 23:00:00</td>\n",
       "    </tr>\n",
       "  </tbody>\n",
       "</table>\n",
       "<p>36160487 rows × 10 columns</p>\n",
       "</div>"
      ],
      "text/plain": [
       "          대여소번호     운동량  이용건수  이용시간(분)   탄소량  이동거리(M)     type gender     age  \\\n",
       "0          1725    0.00     1       44  0.00     0.00  regular      U     10s   \n",
       "1          1167   52.51     1       15  0.51  2210.00  regular      U     10s   \n",
       "2          1059   25.66     1        4  0.25  1080.00  regular      U     10s   \n",
       "3          3794   49.61     1       15  0.50  2160.00  regular      U     10s   \n",
       "4          4014   23.60     1        7  0.22   961.30  regular      U     10s   \n",
       "...         ...     ...   ...      ...   ...      ...      ...    ...     ...   \n",
       "36160482    262   29.15     1        5  0.21   920.00  regular      M  unknow   \n",
       "36160483    201   15.36     1        3  0.10   430.88  regular      M  unknow   \n",
       "36160484   1008   36.83     1        7  0.29  1240.00  regular      M  unknow   \n",
       "36160485   1637  222.14     1       87  2.00  8630.00  regular      M  unknow   \n",
       "36160486   1227   71.52     1       15  0.60  2580.00  regular      M  unknow   \n",
       "\n",
       "                     datetime  \n",
       "0          2022-01-01 0:00:00  \n",
       "1          2022-01-01 0:00:00  \n",
       "2          2022-01-01 0:00:00  \n",
       "3          2022-01-01 0:00:00  \n",
       "4          2022-01-01 0:00:00  \n",
       "...                       ...  \n",
       "36160482  2022-12-31 23:00:00  \n",
       "36160483  2022-12-31 23:00:00  \n",
       "36160484  2022-12-31 23:00:00  \n",
       "36160485  2022-12-31 23:00:00  \n",
       "36160486  2022-12-31 23:00:00  \n",
       "\n",
       "[36160487 rows x 10 columns]"
      ]
     },
     "metadata": {},
     "output_type": "display_data"
    }
   ],
   "source": [
    "all_df"
   ]
  },
  {
   "cell_type": "code",
   "execution_count": null,
   "id": "ebc2f5c3",
   "metadata": {},
   "outputs": [
    {
     "name": "stdout",
     "output_type": "stream",
     "text": [
      "<class 'pandas.core.frame.DataFrame'>\n",
      "RangeIndex: 36160487 entries, 0 to 36160486\n",
      "Data columns (total 10 columns):\n",
      " #   Column    Dtype  \n",
      "---  ------    -----  \n",
      " 0   대여소번호     int64  \n",
      " 1   운동량       float64\n",
      " 2   이용건수      int64  \n",
      " 3   이용시간(분)   int64  \n",
      " 4   탄소량       float64\n",
      " 5   이동거리(M)   float64\n",
      " 6   type      object \n",
      " 7   gender    object \n",
      " 8   age       object \n",
      " 9   datetime  object \n",
      "dtypes: float64(3), int64(3), object(4)\n",
      "memory usage: 2.7+ GB\n"
     ]
    }
   ],
   "source": [
    "all_df.info()"
   ]
  },
  {
   "cell_type": "code",
   "execution_count": null,
   "id": "6536c534",
   "metadata": {},
   "outputs": [],
   "source": [
    "all_df.to_csv('임시nan값처리2.csv', index = False)"
   ]
  },
  {
   "cell_type": "markdown",
   "id": "a1a88b6d",
   "metadata": {},
   "source": [
    "# 4. 날씨 크롤링"
   ]
  },
  {
   "cell_type": "code",
   "execution_count": null,
   "id": "acc8a3cb",
   "metadata": {},
   "outputs": [],
   "source": [
    "url = 'https://freemeteo.co.uk/weather/seoul/history/daily-history/?gid=1835848&station=10565&date='\n",
    "date = '2022-01-01'\n",
    "end = '&language=english&country=south-korea'"
   ]
  },
  {
   "cell_type": "code",
   "execution_count": null,
   "id": "b1928b88",
   "metadata": {},
   "outputs": [],
   "source": [
    "url + date + end"
   ]
  },
  {
   "cell_type": "code",
   "execution_count": null,
   "id": "32b4ec77",
   "metadata": {},
   "outputs": [],
   "source": [
    "one_page = pd.read_html(url + date + end)\n",
    "one_page"
   ]
  },
  {
   "cell_type": "code",
   "execution_count": null,
   "id": "94e7402c",
   "metadata": {},
   "outputs": [],
   "source": [
    "one_page[6]"
   ]
  },
  {
   "cell_type": "code",
   "execution_count": null,
   "id": "accc19c0",
   "metadata": {},
   "outputs": [],
   "source": [
    "# 달 리스트 만들기\n",
    "mon = []\n",
    "for month in range(1,13):\n",
    "    mon.append(month)\n",
    "\n",
    "mon = list(map(str, mon))\n",
    "\n",
    "mont = []\n",
    "\n",
    "for i in range (len(mon)):\n",
    "    mont.append('0' +mon[i])\n",
    "\n",
    "month = []    \n",
    "for i in range (len(mon)):\n",
    "    month.append(mont[i][-2:])\n",
    "    \n",
    "month"
   ]
  },
  {
   "cell_type": "code",
   "execution_count": null,
   "id": "d09d3d16",
   "metadata": {},
   "outputs": [],
   "source": [
    "# 일 리스트 만들기\n",
    "d = []\n",
    "for i in range(1,32):\n",
    "    d.append(i)\n",
    "\n",
    "d = list(map(str, d))\n",
    "\n",
    "da = []\n",
    "\n",
    "for i in range (len(d)):\n",
    "    da.append('0' +d[i])\n",
    "\n",
    "day = []    \n",
    "for i in range (len(d)):\n",
    "    day.append(da[i][-2:])\n",
    "    \n",
    "day"
   ]
  },
  {
   "cell_type": "code",
   "execution_count": null,
   "id": "b3055b92",
   "metadata": {},
   "outputs": [],
   "source": [
    "date = []\n",
    "\n",
    "for m in month:\n",
    "    for d in day:\n",
    "        date.append('2022-'+ m + '-' + d)"
   ]
  },
  {
   "cell_type": "code",
   "execution_count": null,
   "id": "4ca9f89b",
   "metadata": {},
   "outputs": [],
   "source": [
    "remove_date = ['2022-02-29','2022-02-30','2022-02-31',\n",
    "            '2022-04-31','2022-06-31' ,'2022-09-31',\n",
    "            '2022-11-31']\n",
    "for i in remove_date:\n",
    "    date.remove(i)"
   ]
  },
  {
   "cell_type": "code",
   "execution_count": null,
   "id": "b4797c6d",
   "metadata": {},
   "outputs": [],
   "source": [
    "url = 'https://freemeteo.co.uk/weather/seoul/history/daily-history/?gid=1835848&station=10565&date='\n",
    "end = '&language=english&country=south-korea'\n",
    "\n",
    "seoul_weather = []\n",
    "\n",
    "for d in date:\n",
    "    html_list = pd.read_html(url + d + end)\n",
    "    seoul_weather.append(html_list[6])"
   ]
  },
  {
   "cell_type": "code",
   "execution_count": null,
   "id": "f7ea8250",
   "metadata": {},
   "outputs": [],
   "source": [
    "for i, d in enumerate(date):\n",
    "        seoul_weather[i]['date'] = d"
   ]
  },
  {
   "cell_type": "code",
   "execution_count": null,
   "id": "be6cc03b",
   "metadata": {},
   "outputs": [],
   "source": [
    "all_df = pd.DataFrame()\n",
    "\n",
    "for i in seoul_weather:\n",
    "    all_df = pd.concat([all_df, i])\n",
    "    print(all_df.shape)"
   ]
  },
  {
   "cell_type": "code",
   "execution_count": null,
   "id": "788e798f",
   "metadata": {},
   "outputs": [],
   "source": [
    "all_df.to_csv('weather_2022_01_01to2022_12_31.csv',index = False)"
   ]
  },
  {
   "cell_type": "markdown",
   "id": "e5768b25",
   "metadata": {},
   "source": [
    "# 5. weather_modify.csv 제작"
   ]
  },
  {
   "cell_type": "code",
   "execution_count": null,
   "id": "b2bf69fa",
   "metadata": {},
   "outputs": [],
   "source": [
    "all_df = pd.read_csv('임시nan값처리2.csv')\n",
    "all_weather = pd.read_csv('weather_2022_01_01to2022_12_31.csv')"
   ]
  },
  {
   "cell_type": "code",
   "execution_count": null,
   "id": "15a7bd78",
   "metadata": {},
   "outputs": [],
   "source": [
    "set(all_weather['Time'].apply(lambda x : len(x)))"
   ]
  },
  {
   "cell_type": "code",
   "execution_count": null,
   "id": "172128be",
   "metadata": {},
   "outputs": [],
   "source": [
    "set(all_weather['Time'].apply(lambda x : x[:2]))"
   ]
  },
  {
   "cell_type": "code",
   "execution_count": null,
   "id": "02ef7ea1",
   "metadata": {},
   "outputs": [],
   "source": [
    "set(weather['Time'].apply(lambda x : x[2:]))"
   ]
  },
  {
   "cell_type": "code",
   "execution_count": null,
   "id": "41b5536f",
   "metadata": {},
   "outputs": [],
   "source": [
    "set(all_df['datetime'].apply(lambda x : x[11:]))"
   ]
  },
  {
   "cell_type": "code",
   "execution_count": null,
   "id": "e685d9d4",
   "metadata": {},
   "outputs": [],
   "source": [
    "all_weather['Time'] = all_weather['Time'].apply(lambda x: x[:2])\n",
    "all_weather['datetime'] = all_weather['date']+ ' ' + all_weather['Time'] + ':00:00'\n",
    "all_weather.head()"
   ]
  },
  {
   "cell_type": "code",
   "execution_count": null,
   "id": "ae6787e6",
   "metadata": {},
   "outputs": [],
   "source": [
    "all_weather.drop(['Time', 'date'], axis = 'columns', inplace = True)"
   ]
  },
  {
   "cell_type": "code",
   "execution_count": null,
   "id": "ded06ab3",
   "metadata": {},
   "outputs": [],
   "source": [
    "all_weather.isnull().sum()\n",
    "# Wind Gust,Icon 버리기\n",
    "\n",
    "# Relative Temperature, Pressure 은 버릴거임"
   ]
  },
  {
   "cell_type": "code",
   "execution_count": null,
   "id": "b0a27bdd",
   "metadata": {},
   "outputs": [],
   "source": [
    "# all_weather.drop(['Wind Gust', 'Icon'], axis = 'columns', inplace = True)\n",
    "all_weather.drop(['Relative Temperature', 'Pressure'], axis = 'columns', inplace = True)"
   ]
  },
  {
   "cell_type": "code",
   "execution_count": null,
   "id": "4a963632",
   "metadata": {},
   "outputs": [],
   "source": [
    "all_weather\n",
    "# Temperature,  'Wind''Rel. humidity(습도), 'Dew Point(이슬점)', 은\n",
    "# °C,mb같은 단위가 붙어있어서 수치형이 아님. 숫자로 바꿔주겠다."
   ]
  },
  {
   "cell_type": "code",
   "execution_count": null,
   "id": "367fe759",
   "metadata": {},
   "outputs": [],
   "source": [
    "set(all_weather['Temperature'].apply(lambda x : x[-2:]))"
   ]
  },
  {
   "cell_type": "code",
   "execution_count": null,
   "id": "5077e791",
   "metadata": {},
   "outputs": [],
   "source": [
    "set(all_weather['Dew Point'].apply(lambda x : x[-2:]))"
   ]
  },
  {
   "cell_type": "code",
   "execution_count": null,
   "id": "5ba9257b",
   "metadata": {},
   "outputs": [],
   "source": [
    "all_weather['temp'] = all_weather['Temperature'].apply(lambda x : int(x[:-2]))\n",
    "all_weather['dew'] = all_weather['Dew Point'].apply(lambda x: int(x[:-2]))\n",
    "all_weather.head()\n",
    "# °C 빼주기"
   ]
  },
  {
   "cell_type": "code",
   "execution_count": null,
   "id": "1292432d",
   "metadata": {},
   "outputs": [],
   "source": [
    "# 빼주기 전에 모든 row 에 대해 %가 붙어있는지 확인\n",
    "set(all_weather['Rel. humidity'].apply(lambda x: x[-1:]))"
   ]
  },
  {
   "cell_type": "code",
   "execution_count": null,
   "id": "3e40161f",
   "metadata": {},
   "outputs": [],
   "source": [
    "all_weather['humid'] = all_weather['Rel. humidity'].apply(lambda x : int(x[:-1]))\n",
    "all_weather.head()"
   ]
  },
  {
   "cell_type": "code",
   "execution_count": null,
   "id": "14959ea7",
   "metadata": {},
   "outputs": [],
   "source": [
    "# Wind에서 150°9 Km/h가 있으면 150°이 풍향 9가 풍속\n",
    "# 바람은 이동하는데, 풍향과 풍속이 있음\n",
    "# 만약에 자전거를 이용하는 고객이 한 방향으로 이동한다면, 풍향이 아주 큰 의미가 있을 것임\n",
    "# 하지만 자전거를 타고 움직이는 방향은 천차만별임 -> 풍향은 현재 의미가 없음\n",
    "\n",
    "# 풍속만 뽑기\n",
    "\n",
    "set(all_weather['Wind'])"
   ]
  },
  {
   "cell_type": "code",
   "execution_count": null,
   "id": "d831e5b1",
   "metadata": {},
   "outputs": [],
   "source": [
    "all_weather['Wind'] = all_weather['Wind'].apply(lambda x : x.replace('Calm' , '000°0 Km/h'))\n",
    "set(all_weather['Wind'].apply(lambda x : x[-4:]) )"
   ]
  },
  {
   "cell_type": "code",
   "execution_count": null,
   "id": "98b1aeef",
   "metadata": {},
   "outputs": [],
   "source": [
    "all_weather['windspeed'] = all_weather['Wind'].apply(lambda x : int(x.split('°')[1].split('Km/h')[0]))"
   ]
  },
  {
   "cell_type": "code",
   "execution_count": null,
   "id": "62e8ef03",
   "metadata": {},
   "outputs": [],
   "source": [
    "interested = ['datetime', 'temp', 'dew', 'humid', 'windspeed']\n",
    "all_weather[interested].to_csv('weather_modify.csv', index = False)"
   ]
  },
  {
   "cell_type": "markdown",
   "id": "17cd1a73",
   "metadata": {},
   "source": [
    "# 6. 미세먼지 포함 csv 파일 만들기"
   ]
  },
  {
   "cell_type": "code",
   "execution_count": null,
   "id": "7b2625ed",
   "metadata": {},
   "outputs": [],
   "source": [
    "mon = pd.read_csv(\"C:/Users/김나현/Downloads/서울시 대기질 자료 제공_2022 (1).csv\")"
   ]
  },
  {
   "cell_type": "code",
   "execution_count": null,
   "id": "876b6180",
   "metadata": {},
   "outputs": [],
   "source": [
    "set(np.unique(mon['Unnamed: 0'], return_counts = True)[1])"
   ]
  },
  {
   "cell_type": "code",
   "execution_count": null,
   "id": "8c9a2c3f",
   "metadata": {},
   "outputs": [],
   "source": [
    "mon.drop(labels ='Unnamed: 0', axis = 'columns', inplace = True)"
   ]
  },
  {
   "cell_type": "code",
   "execution_count": null,
   "id": "cc206135",
   "metadata": {},
   "outputs": [],
   "source": [
    "df = pd.read_csv('weather_modify.csv')"
   ]
  },
  {
   "cell_type": "code",
   "execution_count": null,
   "id": "52c2055f",
   "metadata": {},
   "outputs": [],
   "source": [
    "set(np.unique(df['datetime'], return_counts = True)[1])"
   ]
  },
  {
   "cell_type": "code",
   "execution_count": null,
   "id": "94279848",
   "metadata": {},
   "outputs": [],
   "source": [
    "df['count'] = 1"
   ]
  },
  {
   "cell_type": "code",
   "execution_count": null,
   "id": "b55f71fa",
   "metadata": {},
   "outputs": [],
   "source": [
    "df1 = df.groupby(['datetime']).agg({'count': np.sum})"
   ]
  },
  {
   "cell_type": "code",
   "execution_count": null,
   "id": "d26ff50b",
   "metadata": {},
   "outputs": [],
   "source": [
    "df1.reset_index(inplace = True)"
   ]
  },
  {
   "cell_type": "code",
   "execution_count": null,
   "id": "cfc5bbe4",
   "metadata": {},
   "outputs": [],
   "source": [
    "df1[df1['count'] !=1]\n",
    "## 크롤링해온 날씨 데이터에서 같은 시간대에 row가 2개 이상인 시간이 존재 \n",
    "# 확인 결과 5:00, 5:33 와 같이 시는 동일하나 분이 다른 데이터임을 확인\n",
    "# -> count가 2 이상인 datetime은 첫 번째 날씨만 사용하기로 결정"
   ]
  },
  {
   "cell_type": "code",
   "execution_count": null,
   "id": "0f60b13a",
   "metadata": {},
   "outputs": [],
   "source": [
    "np.sum(df1[df1['count'] !=1]['count'])"
   ]
  },
  {
   "cell_type": "code",
   "execution_count": null,
   "id": "331f1476",
   "metadata": {},
   "outputs": [],
   "source": [
    "wrong_list = df1[df1['count'] !=1]['datetime'].to_list()"
   ]
  },
  {
   "cell_type": "code",
   "execution_count": null,
   "id": "933a9261",
   "metadata": {},
   "outputs": [],
   "source": [
    "df2 = pd.DataFrame()\n",
    "\n",
    "for i in wrong_list:\n",
    "    df2 = pd.concat([df2, df[df['datetime'] == i].head(1)])"
   ]
  },
  {
   "cell_type": "code",
   "execution_count": null,
   "id": "384dcd22",
   "metadata": {},
   "outputs": [],
   "source": [
    "df = df.drop_duplicates(subset = 'datetime', keep = 'first')\n",
    "df = df.reset_index(drop = True)"
   ]
  },
  {
   "cell_type": "code",
   "execution_count": null,
   "id": "e2d27438",
   "metadata": {},
   "outputs": [],
   "source": [
    "df['datetime'] = pd.to_datetime(df['datetime'])"
   ]
  },
  {
   "cell_type": "code",
   "execution_count": null,
   "id": "9f1a1d52",
   "metadata": {},
   "outputs": [],
   "source": [
    "min_time = df['datetime'].min()\n",
    "max_time = df['datetime'].max()\n",
    "hour_time = pd.date_range(start = min_time, end = max_time, freq = '1H')\n",
    "# missing_time = [time for time in hour_time if time not in df['datetime']]\n",
    "# missing_time"
   ]
  },
  {
   "cell_type": "code",
   "execution_count": null,
   "id": "29af5c81",
   "metadata": {},
   "outputs": [],
   "source": [
    "time = []\n",
    "res = []\n",
    "for i in hour_time:\n",
    "    time.append(i)\n",
    "\n",
    "for i in range (len(time)):\n",
    "    res.append(time[i].to_pydatetime().strftime(\"%Y-%m-%d %H:%M:%S\"))\n",
    "    \n",
    "res  # 2022-01-01부터 12-31까지 한시간 단위로 모두 있는 리스트"
   ]
  },
  {
   "cell_type": "code",
   "execution_count": null,
   "id": "7efbbeff",
   "metadata": {},
   "outputs": [],
   "source": [
    "myres = []\n",
    "for i in range (len(df['datetime'])):\n",
    "    myres.append(df['datetime'].tolist()[i].strftime(\"%Y-%m-%d %H:%M:%S\"))"
   ]
  },
  {
   "cell_type": "code",
   "execution_count": null,
   "id": "f80fab94",
   "metadata": {},
   "outputs": [],
   "source": [
    "missing_dates = set(res).difference(set(myres))\n",
    "len(missing_dates)"
   ]
  },
  {
   "cell_type": "code",
   "execution_count": null,
   "id": "82c366d1",
   "metadata": {},
   "outputs": [],
   "source": [
    "all_date = pd.DataFrame({'datetime' : res})"
   ]
  },
  {
   "cell_type": "code",
   "execution_count": null,
   "id": "f61c1223",
   "metadata": {},
   "outputs": [],
   "source": [
    "all_date['datetime'] = pd.to_datetime(all_date['datetime'])"
   ]
  },
  {
   "cell_type": "code",
   "execution_count": null,
   "id": "59ac314b",
   "metadata": {},
   "outputs": [],
   "source": [
    "include_nan = pd.merge(all_date, df, how = 'outer')\n",
    "include_nan # 날씨 사이트에 없는 시간까지 포함해서 2022년 모든 시간에 대한 데이터프레임"
   ]
  },
  {
   "cell_type": "code",
   "execution_count": null,
   "id": "08325bdc",
   "metadata": {},
   "outputs": [],
   "source": [
    "# 시간을 기준으로 날씨 변화를 측정한 정보이므로 1시간내에 날씨가 드라마틱하게 변하진 않을것이라고 가정하고\n",
    "# 위 아래 row의  보간법으로 nan값을 채워주겠다\n",
    "# include_nan.isnull().sum()\n",
    "include_nan['temp'] = include_nan['temp'].interpolate(method = 'linear')\n",
    "include_nan['dew'] = include_nan['dew'].interpolate(method = 'linear')\n",
    "include_nan['humid'] = include_nan['humid'].interpolate(method = 'linear')\n",
    "include_nan['windspeed'] = include_nan['windspeed'].interpolate(method = 'linear')\n",
    "include_nan.drop('count', axis = 'columns', inplace = True)"
   ]
  },
  {
   "cell_type": "code",
   "execution_count": null,
   "id": "d853e76d",
   "metadata": {},
   "outputs": [],
   "source": [
    "final = pd.concat([include_nan, mon], axis = 1)\n",
    "final.to_csv('weather_modify_미세먼지포함.csv', index = False)"
   ]
  },
  {
   "cell_type": "markdown",
   "id": "54a0c901",
   "metadata": {},
   "source": [
    "# 7. 미세먼지 포함 csv 수정 파일 제작"
   ]
  },
  {
   "cell_type": "code",
   "execution_count": null,
   "id": "f9d5eb2f",
   "metadata": {},
   "outputs": [],
   "source": [
    "df = pd.read_csv('weather_modify_미세먼지포함.csv')"
   ]
  },
  {
   "cell_type": "markdown",
   "id": "24d5f104",
   "metadata": {},
   "source": [
    "windspeed(Beaufort wind force (바람의 영향))\n",
    "\n",
    "https://m.blog.naver.com/PostView.naver?isHttpsRedirect=true&blogId=woolalra&logNo=100194954677\n",
    "\n",
    "- 5계급 정도가 바람이 사람의 행동에 영향을 주는 기준으로 내가 판단했다.만약 갖고 있는 데이터의 바람세기가 5계급 미만이면 바람이 사람의 행동에 제약을 준다고 말하기 힘들것이다 -> 일단 바람의 분포를 확인해보자"
   ]
  },
  {
   "cell_type": "code",
   "execution_count": null,
   "id": "23ab3222",
   "metadata": {},
   "outputs": [],
   "source": [
    "df['windspeed'].hist()\n",
    "# y축은 row 의 수 , x축은 바람의 세기\n",
    "# 5 계급이 바람의 세기 29부터인데 29를 넘는게 몇개 없는걸 확인할 수 있다 -> 있긴 있음"
   ]
  },
  {
   "cell_type": "code",
   "execution_count": null,
   "id": "9af16184",
   "metadata": {},
   "outputs": [],
   "source": [
    "# 바람의 세기가 사람에 영향을 주는 지점(29 이상) 이상일 때, \n",
    "# 바람에게 영향을 받았다고 가정\n",
    "df['windforce'] = 0\n",
    "df.loc[df['windspeed'] >= 29, 'windforce'] = 1\n",
    "df.head()"
   ]
  },
  {
   "cell_type": "markdown",
   "id": "0ef278d6",
   "metadata": {},
   "source": [
    "불쾌지수 (humidex)\n",
    "- T 공기는 °C 단위의 공기 온도입니다.\n",
    "- T이슬은 이슬점 온도 (° C)입니다.\n",
    "- e = 2.71828은 오일러 수의 근사치입니다. https://en.wikipedia.org/wiki/Humidex"
   ]
  },
  {
   "cell_type": "code",
   "execution_count": null,
   "id": "6517fbca",
   "metadata": {},
   "outputs": [],
   "source": [
    "# 불쾌지수는 온도(temp)와 이슬점(dew)을 이용해 땀이 증발하는 속도를 계산해 알아냄 \n",
    "def humidex_cal(T, Td):\n",
    "    upper = 5417.7530*(1/273.16 - 1/(273.15+Td))\n",
    "    inner = 6.11 * (2.71828 **upper)\n",
    "    return  T + 0.5555*(inner - 10)"
   ]
  },
  {
   "cell_type": "code",
   "execution_count": null,
   "id": "b39388b5",
   "metadata": {},
   "outputs": [],
   "source": [
    "humidex_cal(df['temp'], df['dew'])"
   ]
  },
  {
   "cell_type": "code",
   "execution_count": null,
   "id": "0e8dec3b",
   "metadata": {},
   "outputs": [],
   "source": [
    "df['humidex'] = humidex_cal(df['temp'], df['dew'])\n",
    "df.head()"
   ]
  },
  {
   "cell_type": "code",
   "execution_count": null,
   "id": "3f19cdb7",
   "metadata": {},
   "outputs": [],
   "source": [
    "# humidex 에 따라서 느끼는 불쾌감을 따로 칼럼을 만들기\n",
    "df['discomfort'] = 0\n",
    "df.loc[df['humidex'] >= 30, 'discomfort'] = 1\n",
    "df.loc[df['humidex'] >= 40, 'discomfort'] = 2\n",
    "df.loc[df['humidex'] >= 46, 'discomfort'] = 3\n",
    "df.head()\n",
    "# 숫자가 올라갈수록 불쾌"
   ]
  },
  {
   "cell_type": "markdown",
   "id": "e26184b6",
   "metadata": {},
   "source": [
    "열지수"
   ]
  },
  {
   "cell_type": "code",
   "execution_count": null,
   "id": "21c3539f",
   "metadata": {},
   "outputs": [],
   "source": [
    "def HI_cal(T,RH):\n",
    "    HI = -42.379 + 2.04901523*T + 10.14333127*RH - .22475541*T*RH - .00683783*T*T - .05481717*RH*RH + .00122874*T*T*RH + .00085282*T*RH*RH - .00000199*T*T*RH*RH\n",
    "    return HI\n",
    "\n",
    "# T는 화씨"
   ]
  },
  {
   "cell_type": "code",
   "execution_count": null,
   "id": "0e15f50c",
   "metadata": {},
   "outputs": [],
   "source": [
    "df['화씨'] = df['temp'] *(9/5) + 32"
   ]
  },
  {
   "cell_type": "code",
   "execution_count": null,
   "id": "28171fc3",
   "metadata": {},
   "outputs": [],
   "source": [
    "df['HI_화씨'] = HI_cal(df['화씨'], df['humid'])"
   ]
  },
  {
   "cell_type": "code",
   "execution_count": null,
   "id": "3282010e",
   "metadata": {},
   "outputs": [],
   "source": [
    "df['HI_섭씨'] = (5/9)*(df['HI_화씨'] - 32)"
   ]
  },
  {
   "cell_type": "code",
   "execution_count": null,
   "id": "c598c9fe",
   "metadata": {},
   "outputs": [],
   "source": [
    "df.drop('HI', axis = 'columns',inplace = True)"
   ]
  },
  {
   "cell_type": "code",
   "execution_count": null,
   "id": "0931ab17",
   "metadata": {},
   "outputs": [],
   "source": [
    "set(df['HI_섭씨'])\n",
    "\n",
    "# 일단 HI계산은 다음으로 미루기"
   ]
  },
  {
   "cell_type": "markdown",
   "id": "3b512276",
   "metadata": {},
   "source": [
    "날씨 데이터랑 자전거 이용 데이터 합치기"
   ]
  },
  {
   "cell_type": "code",
   "execution_count": null,
   "id": "46283f98",
   "metadata": {},
   "outputs": [],
   "source": [
    "rcg = pd.read_csv('datetime_regular_casual_group.csv')\n",
    "rcg"
   ]
  },
  {
   "cell_type": "code",
   "execution_count": null,
   "id": "2211a7fa",
   "metadata": {},
   "outputs": [],
   "source": [
    "pd.merge(rcg, df).sort_values(by = 'datetime').to_csv('datetime_rcg_weather.csv', index = False)"
   ]
  },
  {
   "cell_type": "code",
   "execution_count": null,
   "id": "bb665d1e",
   "metadata": {},
   "outputs": [],
   "source": [
    "df = pd.read_csv('datetime_rcg_weather.csv')"
   ]
  },
  {
   "cell_type": "code",
   "execution_count": null,
   "id": "8ce63cf3",
   "metadata": {},
   "outputs": [],
   "source": [
    "parsed = df['datetime'].apply(lambda x : pd.to_datetime(x))\n",
    "parsed"
   ]
  },
  {
   "cell_type": "code",
   "execution_count": null,
   "id": "49700353",
   "metadata": {},
   "outputs": [],
   "source": [
    "df['year'] = parsed.apply(lambda x : x.year)\n",
    "df['month'] = parsed.apply(lambda x : x.month)\n",
    "df['day'] = parsed.apply(lambda x : x.day)\n",
    "df['hour'] = parsed.apply(lambda x : x.hour)\n",
    "df['dayofweek'] = parsed.apply(lambda x : x.dayofweek)\n",
    "df.head()\n"
   ]
  },
  {
   "cell_type": "code",
   "execution_count": null,
   "id": "a23ab0e0",
   "metadata": {},
   "outputs": [],
   "source": [
    "interested = ['datetime', 'regular', 'casual', 'group', 'temp', 'dew', 'humid',\n",
    "       'windspeed', 'windforce', 'humidex', 'discomfort','미세먼지(PM10)','초미세먼지(PM2.5)', 'year', 'month',\n",
    "       'day', 'hour', 'dayofweek']\n",
    "df[interested].to_csv('datettime_rcg_weather_dayofweek(미세먼지포함).csv', index = False)"
   ]
  },
  {
   "cell_type": "markdown",
   "id": "12630226",
   "metadata": {},
   "source": [
    "# 8.datettime_rcg_weather_dayofweek.csv 분석 파일(EDA)"
   ]
  },
  {
   "cell_type": "code",
   "execution_count": null,
   "id": "c01ef235",
   "metadata": {},
   "outputs": [],
   "source": [
    "df = pd.read_csv('datettime_rcg_weather_dayofweek(미세먼지포함).csv')"
   ]
  },
  {
   "cell_type": "code",
   "execution_count": null,
   "id": "9589c91a",
   "metadata": {},
   "outputs": [],
   "source": [
    "interested = ['year', 'month','day', 'hour', 'dayofweek'\n",
    "            ,'regular', 'casual', 'group',\n",
    "             'windforce','discomfort','미세먼지(PM10)',\n",
    "       '초미세먼지(PM2.5)'\n",
    "             ]\n",
    "df = df[interested]"
   ]
  },
  {
   "cell_type": "code",
   "execution_count": null,
   "id": "9f19743f",
   "metadata": {},
   "outputs": [],
   "source": [
    "sns.countplot(df['windforce'])"
   ]
  },
  {
   "cell_type": "code",
   "execution_count": null,
   "id": "84ab0186",
   "metadata": {},
   "outputs": [],
   "source": [
    "sns.countplot(df['discomfort'])\n",
    "# 숫자가 올라갈수록 불쾌"
   ]
  },
  {
   "cell_type": "code",
   "execution_count": null,
   "id": "3760c339",
   "metadata": {},
   "outputs": [],
   "source": [
    "sns.pointplot(data = df, x = 'month', y = 'regular')\n",
    "# 겨울에 이용량이 적고, 엄청 더울 때에도 이용량이 감소한다."
   ]
  },
  {
   "cell_type": "code",
   "execution_count": null,
   "id": "ee67c004",
   "metadata": {},
   "outputs": [],
   "source": [
    "sns.pointplot(data = df, x = 'month', y = 'casual')"
   ]
  },
  {
   "cell_type": "code",
   "execution_count": null,
   "id": "21d4e003",
   "metadata": {},
   "outputs": [],
   "source": [
    "sns.pointplot(data = df, x = 'month', y = 'group')"
   ]
  },
  {
   "cell_type": "code",
   "execution_count": null,
   "id": "5d06a97f",
   "metadata": {},
   "outputs": [],
   "source": [
    "sns.pointplot(data = df, x = 'day', y = 'regular')"
   ]
  },
  {
   "cell_type": "code",
   "execution_count": null,
   "id": "f8bbaf88",
   "metadata": {},
   "outputs": [],
   "source": [
    "sns.pointplot(data = df, x = 'day', y = 'casual')"
   ]
  },
  {
   "cell_type": "code",
   "execution_count": null,
   "id": "abf83ea6",
   "metadata": {},
   "outputs": [],
   "source": [
    "sns.pointplot(data = df, x = 'day', y = 'group')"
   ]
  },
  {
   "cell_type": "code",
   "execution_count": null,
   "id": "c0a521eb",
   "metadata": {},
   "outputs": [],
   "source": [
    "sns.pointplot(data = df, x = 'hour', y = 'regular')"
   ]
  },
  {
   "cell_type": "code",
   "execution_count": null,
   "id": "e58a479a",
   "metadata": {},
   "outputs": [],
   "source": [
    "sns.pointplot(data = df, x = 'hour', y = 'casual')"
   ]
  },
  {
   "cell_type": "code",
   "execution_count": null,
   "id": "b55ad051",
   "metadata": {},
   "outputs": [],
   "source": [
    "sns.pointplot(data = df, x = 'hour', y = 'group')"
   ]
  },
  {
   "cell_type": "code",
   "execution_count": null,
   "id": "a28e710c",
   "metadata": {},
   "outputs": [],
   "source": [
    "sns.pointplot(data = df, x = 'dayofweek', y = 'regular')"
   ]
  },
  {
   "cell_type": "code",
   "execution_count": null,
   "id": "28d22f00",
   "metadata": {},
   "outputs": [],
   "source": [
    "sns.pointplot(data = df, x = 'dayofweek', y = 'casual')"
   ]
  },
  {
   "cell_type": "code",
   "execution_count": null,
   "id": "66cf396f",
   "metadata": {},
   "outputs": [],
   "source": [
    "sns.pointplot(data = df, x = 'dayofweek', y = 'group')"
   ]
  },
  {
   "cell_type": "markdown",
   "id": "20e3ee99",
   "metadata": {},
   "source": [
    "windforce & type\n",
    "- 바람세기 (0: 바람이 영향을 줄만큼 세지 않음, 1: 영향을 줄만큼 셈)"
   ]
  },
  {
   "cell_type": "code",
   "execution_count": null,
   "id": "b77e672e",
   "metadata": {},
   "outputs": [],
   "source": [
    "sns.barplot(data = df, x = 'windforce', y = 'regular')"
   ]
  },
  {
   "cell_type": "code",
   "execution_count": null,
   "id": "d3d3737c",
   "metadata": {},
   "outputs": [],
   "source": [
    "sns.barplot(data = df, x = 'windforce', y = 'casual')"
   ]
  },
  {
   "cell_type": "code",
   "execution_count": null,
   "id": "3613b038",
   "metadata": {},
   "outputs": [],
   "source": [
    "sns.barplot(data = df, x = 'windforce', y = 'group')"
   ]
  },
  {
   "cell_type": "code",
   "execution_count": null,
   "id": "b7310254",
   "metadata": {},
   "outputs": [],
   "source": [
    "# 그래프를 하나씩 그리다 보면 보기가 까다로울 수 있다. -> 한번에 보기 가능\n",
    "fig, ((ax1, ax2,ax3),(ax4,ax5,ax6),(ax7,ax8,ax9))= plt.subplots(nrows = 3, ncols = 3,constrained_layout = True)   \n",
    "\n",
    "fig.set_size_inches(16,8)   # fig의 크기 조절\n",
    "\n",
    "sns.lineplot(data = df, x = 'month', y = 'regular',ax = ax1 )\n",
    "sns.lineplot(data = df, x = 'month', y = 'casual',ax = ax2 )\n",
    "sns.lineplot(data = df, x = 'month', y = 'group',ax = ax3 )\n",
    "sns.lineplot(data = df, x = 'day', y = 'regular',ax = ax4 )\n",
    "sns.lineplot(data = df, x = 'day', y = 'casual',ax = ax5 )\n",
    "sns.lineplot(data = df, x = 'day', y = 'group',ax = ax6 )\n",
    "sns.lineplot(data = df, x = 'hour', y = 'regular',ax = ax7 )\n",
    "sns.lineplot(data = df, x = 'hour', y = 'casual',ax = ax8 )\n",
    "sns.lineplot(data = df, x = 'hour', y = 'group',ax = ax9 )"
   ]
  },
  {
   "cell_type": "code",
   "execution_count": null,
   "id": "c1951d9d",
   "metadata": {},
   "outputs": [],
   "source": [
    "fig,((ax10,ax11,ax12), (ax13,ax14,ax15),(ax16,ax17,ax18))= plt.subplots(nrows = 3, ncols = 3, constrained_layout = True)   \n",
    "fig.set_size_inches(16,8)\n",
    "# fig.tight_layout()\n",
    "\n",
    "sns.lineplot(data = df, x = 'dayofweek', y = 'regular',ax = ax10 )\n",
    "sns.lineplot(data = df, x = 'dayofweek', y = 'casual',ax = ax11 )\n",
    "sns.lineplot(data = df, x = 'dayofweek', y = 'group',ax = ax12 )\n",
    "sns.barplot(data = df, x = 'windforce', y = 'regular',ax = ax13 )\n",
    "sns.barplot(data = df, x = 'windforce', y = 'casual',ax = ax14 )\n",
    "sns.barplot(data = df, x = 'windforce', y = 'group',ax = ax15 )\n",
    "sns.lineplot(data = df, x = 'discomfort', y = 'regular',ax = ax16 )\n",
    "sns.lineplot(data = df, x = 'discomfort', y = 'casual',ax = ax17 )\n",
    "sns.lineplot(data = df, x = 'discomfort', y = 'group',ax = ax18 )"
   ]
  },
  {
   "cell_type": "markdown",
   "id": "1c68998b",
   "metadata": {},
   "source": [
    "미세먼지\n",
    "https://blog.naver.com/kopajago/223047035108 -좋음, 보통, 나쁨, 매우나쁨으로 구분해서 새로운 칼럼 제작"
   ]
  },
  {
   "cell_type": "code",
   "execution_count": null,
   "id": "c552524e",
   "metadata": {},
   "outputs": [],
   "source": [
    "# 미세먼지 농도에 따라 구분 기준 \n",
    "df['PM10 classification'] = 'good'  # 좋음\n",
    "df.loc[df['미세먼지(PM10)'] > 30, 'PM10 classification'] = 'average'  # 보통\n",
    "df.loc[df['미세먼지(PM10)'] > 80, 'PM10 classification'] = 'bad'  # 나쁨\n",
    "df.loc[df['미세먼지(PM10)'] > 150, 'PM10 classification'] = 'very bad'  # 매우 나쁨\n",
    "df.head()"
   ]
  },
  {
   "cell_type": "code",
   "execution_count": null,
   "id": "be066003",
   "metadata": {},
   "outputs": [],
   "source": [
    "sns.pointplot(data = df, x = 'PM10 classification', y = 'regular')"
   ]
  },
  {
   "cell_type": "markdown",
   "id": "c6eb18e6",
   "metadata": {},
   "source": [
    "초미세먼지\n",
    "https://blog.naver.com/kopajago/223047035108 -좋음, 보통, 나쁨, 매우나쁨으로 구분해서 새로운 칼럼 제작"
   ]
  },
  {
   "cell_type": "code",
   "execution_count": null,
   "id": "ed258351",
   "metadata": {},
   "outputs": [],
   "source": [
    "# 초미세먼지 농도에 따라 구분 기준 \n",
    "df['PM2.5 classification'] = 'good'  # 좋음\n",
    "df.loc[df['초미세먼지(PM2.5)'] > 15, 'PM2.5 classification'] = 'average'  # 보통\n",
    "df.loc[df['초미세먼지(PM2.5)'] > 35, 'PM2.5 classification'] = 'bad'  # 나쁨\n",
    "df.loc[df['초미세먼지(PM2.5)'] > 75, 'PM2.5 classification'] = 'very bad'  # 매우 나쁨\n",
    "df.head()"
   ]
  },
  {
   "cell_type": "code",
   "execution_count": null,
   "id": "b6a04476",
   "metadata": {},
   "outputs": [],
   "source": [
    "sns.pointplot(data = df, x = 'PM2.5 classification', y = 'regular')"
   ]
  },
  {
   "cell_type": "markdown",
   "id": "871e862e",
   "metadata": {},
   "source": [
    "# 9. EDA 준비"
   ]
  },
  {
   "cell_type": "code",
   "execution_count": null,
   "id": "da06d0ce",
   "metadata": {},
   "outputs": [],
   "source": [
    "all_df = pd.read_csv('임시nan값처리2.csv')\n",
    "all_weather = pd.read_csv('weather_modify.csv')"
   ]
  },
  {
   "cell_type": "code",
   "execution_count": null,
   "id": "1a52ae31",
   "metadata": {},
   "outputs": [],
   "source": [
    "all_df['date_trash'] = all_df['datetime'].apply(lambda x : x[11:])\n",
    "all_df['date_trash'] = all_df['date_trash'].apply(lambda x : '0' + x)\n",
    "all_df['date_trash'] = all_df['date_trash'].apply(lambda x : x[-8:])\n",
    "all_df['day_trash'] = all_df['datetime'].apply(lambda x : x[:10])"
   ]
  },
  {
   "cell_type": "code",
   "execution_count": null,
   "id": "1f0d9cce",
   "metadata": {},
   "outputs": [],
   "source": [
    "all_df['datetime'] = all_df['day_trash'] + ' ' + all_df['date_trash']"
   ]
  },
  {
   "cell_type": "code",
   "execution_count": null,
   "id": "cf67abd4",
   "metadata": {},
   "outputs": [],
   "source": [
    "all_df.drop(['date_trash', 'day_trash'],axis = 'columns', inplace = True)"
   ]
  },
  {
   "cell_type": "code",
   "execution_count": null,
   "id": "fd801c64",
   "metadata": {},
   "outputs": [],
   "source": [
    "interested = ['type','gender', 'age', 'datetime']\n",
    "df = all_df[interested]\n",
    "df"
   ]
  },
  {
   "cell_type": "code",
   "execution_count": null,
   "id": "c6c7d363",
   "metadata": {},
   "outputs": [],
   "source": [
    "df.to_csv('type_gender_age_datetime.csv',index = False)"
   ]
  },
  {
   "cell_type": "markdown",
   "id": "6fba2bde",
   "metadata": {},
   "source": [
    "# 10. datetime_type_gender_age_count(datetime_regular_casual_group.csv만든 파일)"
   ]
  },
  {
   "cell_type": "code",
   "execution_count": null,
   "id": "a6207cbd",
   "metadata": {},
   "outputs": [],
   "source": [
    "df = pd.read_csv('type_gender_age_datetime.csv')"
   ]
  },
  {
   "cell_type": "code",
   "execution_count": null,
   "id": "cd74e3de",
   "metadata": {},
   "outputs": [],
   "source": [
    "df['count'] = 1\n",
    "df.groupby('datetime').agg({'count' : np.sum})\n",
    "# 해당 시간대에서 이용한 이용객 수"
   ]
  },
  {
   "cell_type": "code",
   "execution_count": null,
   "id": "7c6cc55b",
   "metadata": {},
   "outputs": [],
   "source": [
    "reg = df.loc[df['type'] == 'regular']\n",
    "reg = reg.groupby('datetime').agg({'count':np.sum}).reset_index()\n",
    "reg.columns = ['datetime', 'regular']\n",
    "reg\n",
    "# 정기권 고객들의 시간대별 이용량을 구할 수 있음"
   ]
  },
  {
   "cell_type": "code",
   "execution_count": null,
   "id": "106a406d",
   "metadata": {},
   "outputs": [],
   "source": [
    "cas = df.loc[df['type'] == 'casual']\n",
    "cas = cas.groupby('datetime').agg({'count':np.sum}).reset_index()\n",
    "cas.columns = ['datetime', 'casual']\n",
    "cas\n",
    "# 일일권 고객들의 시간대별 이용량을 구할 수 있음"
   ]
  },
  {
   "cell_type": "code",
   "execution_count": null,
   "id": "575d6f5e",
   "metadata": {},
   "outputs": [],
   "source": [
    "gro = df.loc[df['type'] == 'group']\n",
    "gro = gro.groupby('datetime').agg({'count':np.sum}).reset_index()\n",
    "gro.columns = ['datetime', 'group']\n",
    "gro\n",
    "# 단체권 고객들의 시간대별 이용량을 구할 수 있음"
   ]
  },
  {
   "cell_type": "code",
   "execution_count": null,
   "id": "9b928f62",
   "metadata": {},
   "outputs": [],
   "source": [
    "# reg 와 cas를 합치기 -> 두개의 공통 칼럼인 datetime을 기준으로 합쳐짐\n",
    "rc = pd.merge(reg, cas, how = 'outer')\n",
    "rc"
   ]
  },
  {
   "cell_type": "code",
   "execution_count": null,
   "id": "d89ec119",
   "metadata": {},
   "outputs": [],
   "source": [
    "rcg = pd.merge(rc, gro, how = 'outer')\n",
    "rcg\n",
    "# gro도 합쳐주기"
   ]
  },
  {
   "cell_type": "code",
   "execution_count": null,
   "id": "46782c54",
   "metadata": {},
   "outputs": [],
   "source": [
    "# 데이터 프레임을 합치는 과정에서 생긴 NaN을 0으로 채워주기(NaN은 연산이 안되니까)\n",
    "rcg = rcg.fillna(0)\n",
    "rcg\n",
    "# 시간대별 고객의 유형별 이용량을 확인할 수 있음"
   ]
  },
  {
   "cell_type": "code",
   "execution_count": null,
   "id": "9991e487",
   "metadata": {},
   "outputs": [],
   "source": [
    "rcg.to_csv('datetime_regular_casual_group.csv', index = False)"
   ]
  },
  {
   "cell_type": "markdown",
   "id": "c56b77e4",
   "metadata": {},
   "source": [
    "# 11. gender,age까지 포함해서 EDA"
   ]
  },
  {
   "cell_type": "code",
   "execution_count": null,
   "id": "2fa0b9a5",
   "metadata": {},
   "outputs": [],
   "source": [
    "all_df = pd.read_csv('type_gender_age_datetime.csv')\n",
    "all_df"
   ]
  },
  {
   "cell_type": "code",
   "execution_count": null,
   "id": "c2ebf80d",
   "metadata": {},
   "outputs": [],
   "source": [
    "all_df = all_df.fillna('70s')"
   ]
  },
  {
   "cell_type": "code",
   "execution_count": null,
   "id": "36f4bca6",
   "metadata": {},
   "outputs": [],
   "source": [
    "all_df['count'] = 1\n",
    "gender_type = all_df.groupby(['gender','type']).agg({'count': np.sum})"
   ]
  },
  {
   "cell_type": "code",
   "execution_count": null,
   "id": "c8c048e5",
   "metadata": {},
   "outputs": [],
   "source": [
    "gender_type.reset_index(inplace = True)"
   ]
  },
  {
   "cell_type": "code",
   "execution_count": null,
   "id": "1c61b8a4",
   "metadata": {},
   "outputs": [],
   "source": [
    "fig,((ax10,ax11,ax12))= plt.subplots(nrows = 1, ncols = 3, constrained_layout = True)   \n",
    "fig.set_size_inches(10,3)\n",
    "\n",
    "sns.barplot(data = gender_type[gender_type['gender'] == 'F'], x = 'type', y = 'count',ax = ax10).set_title('Female type ')\n",
    "sns.barplot(data = gender_type[gender_type['gender'] == 'M'], x = 'type', y = 'count', ax = ax11).set_title('Male type ')\n",
    "sns.barplot(data = gender_type[gender_type['gender'] == 'U'], x = 'type', y = 'count', ax = ax12)\n",
    "plt.title('Unidentified type ')"
   ]
  },
  {
   "cell_type": "code",
   "execution_count": null,
   "id": "977d42b6",
   "metadata": {},
   "outputs": [],
   "source": [
    "fig,((ax10,ax11,ax12))= plt.subplots(nrows = 1, ncols = 3, constrained_layout = True)   \n",
    "fig.set_size_inches(10,3)\n",
    "\n",
    "sns.barplot(data = gender_type[gender_type['type'] == 'regular'], x = 'gender', y = 'count',ax = ax10).set_title('regular type ')\n",
    "sns.barplot(data = gender_type[gender_type['type'] == 'casual'], x = 'gender', y = 'count', ax = ax11).set_title('casual type ')\n",
    "sns.barplot(data = gender_type[gender_type['type'] == 'group'], x = 'gender', y = 'count', ax = ax12).set_title('group type ')"
   ]
  },
  {
   "cell_type": "code",
   "execution_count": null,
   "id": "5f9e2b5e",
   "metadata": {},
   "outputs": [],
   "source": [
    "age_type = all_df.groupby(['age','type']).agg({'count': np.sum})\n",
    "age_type.reset_index(inplace = True)"
   ]
  },
  {
   "cell_type": "code",
   "execution_count": null,
   "id": "fe17255b",
   "metadata": {},
   "outputs": [],
   "source": [
    "fig,((ax10,ax11,ax12),(ax13,ax14,ax15),(ax16,ax17,ax18))= plt.subplots(nrows = 3, ncols = 3)   \n",
    "fig.set_size_inches(16,8)\n",
    "\n",
    "sns.barplot(data = age_type[age_type['age'] == '10s'], x = 'type', y = 'count',ax = ax10).set_title('10s type ')\n",
    "sns.barplot(data = age_type[age_type['age'] == '20s'], x = 'type', y = 'count',ax = ax11).set_title('20s type ')\n",
    "sns.barplot(data = age_type[age_type['age'] == '30s'], x = 'type', y = 'count',ax = ax12).set_title('30s type ')\n",
    "sns.barplot(data = age_type[age_type['age'] == '40s'], x = 'type', y = 'count',ax = ax13).set_title('40s type ')\n",
    "sns.barplot(data = age_type[age_type['age'] == '50s'], x = 'type', y = 'count',ax = ax14).set_title('50s type ')\n",
    "sns.barplot(data = age_type[age_type['age'] == '60s'], x = 'type', y = 'count',ax = ax15).set_title('60s type ')\n",
    "sns.barplot(data = age_type[age_type['age'] == '70s'], x = 'type', y = 'count',ax = ax16).set_title('70s type ')\n",
    "sns.barplot(data = age_type[age_type['age'] == 'unknown'], x = 'type', y = 'count',ax = ax17).set_title('unknown type ')"
   ]
  },
  {
   "cell_type": "code",
   "execution_count": null,
   "id": "6aa09115",
   "metadata": {},
   "outputs": [],
   "source": [
    "fig,((ax1,ax2,ax3))= plt.subplots(nrows = 1, ncols = 3)   \n",
    "fig.set_size_inches(16,3)\n",
    "\n",
    "sns.barplot(data = age_type[age_type['type'] == 'regular'], x = 'age', y = 'count',ax = ax1).set_title('regular age')\n",
    "sns.barplot(data = age_type[age_type['type'] == 'casual'], x = 'age', y = 'count',ax = ax2).set_title('casual age')\n",
    "sns.barplot(data = age_type[age_type['type'] == 'group'], x = 'age', y = 'count',ax = ax3).set_title('group age')"
   ]
  }
 ],
 "metadata": {
  "kernelspec": {
   "display_name": "Python 3 (ipykernel)",
   "language": "python",
   "name": "python3"
  },
  "language_info": {
   "codemirror_mode": {
    "name": "ipython",
    "version": 3
   },
   "file_extension": ".py",
   "mimetype": "text/x-python",
   "name": "python",
   "nbconvert_exporter": "python",
   "pygments_lexer": "ipython3",
   "version": "3.9.7"
  }
 },
 "nbformat": 4,
 "nbformat_minor": 5
}
